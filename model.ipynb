{
 "cells": [
  {
   "cell_type": "code",
   "execution_count": 3,
   "metadata": {},
   "outputs": [
    {
     "name": "stdout",
     "output_type": "stream",
     "text": [
      "The autoreload extension is already loaded. To reload it, use:\n",
      "  %reload_ext autoreload\n"
     ]
    }
   ],
   "source": [
    "import ee\n",
    "\n",
    "import model\n",
    "from pixelPairs import pixelPairs\n",
    "from reader import parseKML\n",
    "import numpy as np\n",
    "\n",
    "%load_ext autoreload\n",
    "%autoreload 2"
   ]
  },
  {
   "cell_type": "code",
   "execution_count": 4,
   "metadata": {},
   "outputs": [],
   "source": [
    "ee.Initialize()\n",
    "sar = None\n",
    "ndvi = np.array([])"
   ]
  },
  {
   "cell_type": "code",
   "execution_count": null,
   "metadata": {},
   "outputs": [
    {
     "name": "stdout",
     "output_type": "stream",
     "text": [
      "{1: [0], 2: [0], 0: [1], 3: [2], 4: [2]}\n",
      "{4: [0], 0: [1]}\n",
      "{8: [0], 9: [0], 12: [1], 18: [2], 19: [2], 20: [3], 21: [3], 22: [4], 23: [4], 24: [4], 26: [5], 27: [5], 0: [6], 4: [7], 5: [7], 15: [8], 16: [8], 17: [8], 31: [9], 32: [10], 33: [10], 34: [10]}\n",
      "{1: [0]}\n",
      "{8: [0], 9: [0], 0: [1], 1: [1], 4: [2], 5: [2], 6: [3], 7: [3], 10: [4], 11: [4], 12: [5], 13: [5]}\n",
      "{4: [0], 5: [0], 2: [1], 3: [1], 10: [2], 11: [2], 12: [3], 13: [3]}\n",
      "{11: [0], 12: [0], 13: [0], 0: [1], 1: [1], 5: [2], 6: [2], 7: [2], 9: [3], 10: [3], 15: [4], 16: [4], 17: [4], 18: [5], 19: [5], 20: [5]}\n",
      "{8: [0], 9: [0], 0: [1], 1: [1], 4: [2], 5: [2], 6: [3], 7: [3], 10: [4], 11: [4], 12: [5], 13: [5]}\n",
      "{0: [0], 1: [0], 2: [1], 4: [2]}\n",
      "{8: [0], 9: [0], 12: [1], 18: [2], 19: [2], 20: [3], 21: [3], 22: [4], 23: [4], 24: [4], 26: [5], 27: [5], 0: [6], 4: [7], 5: [7], 15: [8], 16: [8], 17: [8], 31: [9, 10], 32: [11], 33: [11], 34: [11]}\n",
      "{0: [0, 1], 1: [2]}\n",
      "{8: [0], 9: [0], 0: [1], 1: [1], 4: [2], 5: [2], 6: [3], 7: [3], 10: [4], 11: [4], 12: [5], 13: [5]}\n",
      "{10: [0], 11: [0], 12: [0], 0: [1], 1: [1], 5: [2], 6: [2], 7: [3], 8: [3], 9: [3], 15: [4], 16: [4], 17: [4], 18: [5], 19: [5], 20: [5]}\n",
      "{8: [0], 13: [1], 14: [1], 17: [2], 18: [2], 4: [3], 5: [3], 9: [4], 10: [4], 11: [4], 12: [4], 19: [5], 20: [5], 21: [5], 22: [5]}\n",
      "{11: [0], 12: [0], 13: [0], 0: [1], 1: [1], 5: [2], 6: [2], 7: [2], 9: [3], 10: [3], 15: [4], 16: [4], 17: [4], 18: [5], 19: [5], 20: [5]}\n",
      "{8: [0], 9: [0], 0: [1], 1: [1], 4: [2], 5: [2], 6: [3], 7: [3], 10: [4], 11: [4], 12: [5], 13: [5]}\n",
      "{1: [0]}\n",
      "{0: [0, 1], 1: [2]}\n"
     ]
    }
   ],
   "source": [
    "for array in parseKML(\"2019_polygons.kml\"):\n",
    "    X, y = pixelPairs(array, \"2019-05-01\", \"2019-09-30\")\n",
    "    if len(X):\n",
    "        sar = np.concatenate((sar, X), axis=0) if not sar is None else X\n",
    "        ndvi = np.append(ndvi, y)"
   ]
  },
  {
   "cell_type": "code",
   "execution_count": 8,
   "metadata": {},
   "outputs": [
    {
     "name": "stdout",
     "output_type": "stream",
     "text": [
      "Train set size: 2818849\n",
      "Test set size: 497445\n",
      "Regression score: R^2=0.7456358497683389\n",
      "{'bootstrap': True, 'ccp_alpha': 0.0, 'criterion': 'mse', 'max_depth': None, 'max_features': 'auto', 'max_leaf_nodes': None, 'max_samples': None, 'min_impurity_decrease': 0.0, 'min_impurity_split': None, 'min_samples_leaf': 1, 'min_samples_split': 2, 'min_weight_fraction_leaf': 0.0, 'n_estimators': 100, 'n_jobs': None, 'oob_score': False, 'random_state': None, 'verbose': 0, 'warm_start': False}\n",
      "[0.62394382 0.19317986 0.18287633]\n"
     ]
    }
   ],
   "source": [
    "model.train_and_test(sar, ndvi, test_split=0.15)"
   ]
  },
  {
   "cell_type": "code",
   "execution_count": 4,
   "metadata": {},
   "outputs": [],
   "source": [
    "np.save(\"2019_sar_px\", sar)\n",
    "np.save(\"2019_ndvi_px\", ndvi)"
   ]
  },
  {
   "cell_type": "code",
   "execution_count": null,
   "metadata": {},
   "outputs": [],
   "source": []
  }
 ],
 "metadata": {
  "kernelspec": {
   "display_name": "Python 3",
   "language": "python",
   "name": "python3"
  },
  "language_info": {
   "codemirror_mode": {
    "name": "ipython",
    "version": 3
   },
   "file_extension": ".py",
   "mimetype": "text/x-python",
   "name": "python",
   "nbconvert_exporter": "python",
   "pygments_lexer": "ipython3",
   "version": "3.6.9"
  }
 },
 "nbformat": 4,
 "nbformat_minor": 4
}
