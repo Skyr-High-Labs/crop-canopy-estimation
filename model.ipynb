{
 "cells": [
  {
   "cell_type": "code",
   "execution_count": 1,
   "metadata": {},
   "outputs": [],
   "source": [
    "import ee\n",
    "\n",
    "import model\n",
    "from pixelPairs import pixelPairs\n",
    "from reader import parseKML\n",
    "import numpy as np\n",
    "\n",
    "%load_ext autoreload\n",
    "%autoreload 2"
   ]
  },
  {
   "cell_type": "code",
   "execution_count": 2,
   "metadata": {},
   "outputs": [],
   "source": [
    "ee.Initialize()\n",
    "sar = None\n",
    "ndvi = np.array([])\n",
    "\n",
    "def unison_shuffled_copies(a, b):\n",
    "    assert len(a) == len(b)\n",
    "    p = np.random.permutation(len(a))\n",
    "    return a[p], b[p]"
   ]
  },
  {
   "cell_type": "code",
   "execution_count": 10,
   "metadata": {
    "collapsed": true,
    "jupyter": {
     "outputs_hidden": true
    }
   },
   "outputs": [
    {
     "name": "stdout",
     "output_type": "stream",
     "text": [
      "{1: [0], 2: [0], 0: [1], 3: [2], 4: [2]}\n",
      "{4: [0], 0: [1]}\n",
      "{8: [0], 9: [0], 12: [1], 18: [2], 19: [2], 20: [3], 21: [3], 22: [4], 23: [4], 24: [4], 26: [5], 27: [5], 0: [6], 4: [7], 5: [7], 15: [8], 16: [8], 17: [8], 31: [9], 32: [10], 33: [10], 34: [10]}\n",
      "{1: [0]}\n",
      "{8: [0], 9: [0], 0: [1], 1: [1], 4: [2], 5: [2], 6: [3], 7: [3], 10: [4], 11: [4], 12: [5], 13: [5]}\n",
      "{4: [0], 5: [0], 2: [1], 3: [1], 10: [2], 11: [2], 12: [3], 13: [3]}\n",
      "{11: [0], 12: [0], 13: [0], 0: [1], 1: [1], 5: [2], 6: [2], 7: [2], 9: [3], 10: [3], 15: [4], 16: [4], 17: [4], 18: [5], 19: [5], 20: [5]}\n",
      "{8: [0], 9: [0], 0: [1], 1: [1], 4: [2], 5: [2], 6: [3], 7: [3], 10: [4], 11: [4], 12: [5], 13: [5]}\n",
      "{0: [0], 1: [0], 2: [1], 4: [2]}\n",
      "{8: [0], 9: [0], 12: [1], 18: [2], 19: [2], 20: [3], 21: [3], 22: [4], 23: [4], 24: [4], 26: [5], 27: [5], 0: [6], 4: [7], 5: [7], 15: [8], 16: [8], 17: [8], 31: [9, 10], 32: [11], 33: [11], 34: [11]}\n",
      "{0: [0, 1], 1: [2]}\n",
      "{8: [0], 9: [0], 0: [1], 1: [1], 4: [2], 5: [2], 6: [3], 7: [3], 10: [4], 11: [4], 12: [5], 13: [5]}\n",
      "{10: [0], 11: [0], 12: [0], 0: [1], 1: [1], 5: [2], 6: [2], 7: [3], 8: [3], 9: [3], 15: [4], 16: [4], 17: [4], 18: [5], 19: [5], 20: [5]}\n",
      "{8: [0], 13: [1], 14: [1], 17: [2], 18: [2], 4: [3], 5: [3], 9: [4], 10: [4], 11: [4], 12: [4], 19: [5], 20: [5], 21: [5], 22: [5]}\n",
      "{11: [0], 12: [0], 13: [0], 0: [1], 1: [1], 5: [2], 6: [2], 7: [2], 9: [3], 10: [3], 15: [4], 16: [4], 17: [4], 18: [5], 19: [5], 20: [5]}\n",
      "{8: [0], 9: [0], 0: [1], 1: [1], 4: [2], 5: [2], 6: [3], 7: [3], 10: [4], 11: [4], 12: [5], 13: [5]}\n",
      "{1: [0]}\n",
      "{0: [0, 1], 1: [2]}\n",
      "{1: [0], 3: [1], 0: [2, 3], 2: [4]}\n",
      "{8: [0], 9: [0], 0: [1], 1: [1], 4: [2], 5: [2], 6: [3], 7: [3], 10: [4], 11: [4], 12: [5], 13: [5]}\n",
      "{1: [0]}\n",
      "{4: [0], 5: [0], 2: [1], 3: [1], 10: [2], 11: [2], 12: [3], 13: [3]}\n",
      "{8: [0], 9: [0], 0: [1], 1: [1], 4: [2], 5: [2], 6: [3], 7: [3], 10: [4], 11: [4], 12: [5], 13: [5]}\n",
      "{8: [0], 9: [0], 0: [1], 1: [1], 4: [2], 5: [2], 6: [3], 7: [3], 10: [4], 11: [4], 12: [5], 13: [5]}\n",
      "{8: [0], 13: [1], 14: [1], 17: [2], 18: [2], 4: [3], 5: [3], 9: [4], 10: [4], 11: [4], 12: [4], 19: [5], 20: [5], 21: [5], 22: [5]}\n",
      "{0: [0], 1: [1]}\n",
      "{10: [0], 11: [0], 12: [0], 0: [1], 1: [1], 5: [2], 6: [2], 7: [3], 8: [3], 9: [3], 15: [4], 16: [4], 17: [4], 18: [5], 19: [5], 20: [5]}\n",
      "{2: [0], 3: [1], 4: [1]}\n",
      "{1: [0], 2: [0], 0: [1], 3: [2], 4: [2]}\n",
      "{8: [0], 9: [0], 0: [1], 1: [1], 4: [2], 5: [2], 6: [3], 7: [3], 10: [4], 11: [4], 12: [5], 13: [5]}\n",
      "{1: [0], 2: [1]}\n",
      "{1: [0]}\n",
      "{0: [0], 1: [0], 4: [1], 5: [1], 6: [2], 7: [2], 10: [3], 11: [3], 12: [4], 13: [4]}\n",
      "{12: [0], 13: [0], 14: [0], 15: [0], 0: [1], 1: [1], 6: [2], 7: [2], 8: [3], 9: [3], 10: [3], 11: [3], 20: [4], 21: [4], 22: [4], 23: [4], 24: [5], 25: [5], 26: [5], 27: [5]}\n",
      "{10: [0], 11: [0], 12: [0], 0: [1], 1: [1], 5: [2], 6: [2], 7: [3], 8: [3], 9: [3], 15: [4], 16: [4], 17: [4], 18: [5], 19: [5], 20: [5]}\n",
      "{0: [0, 1], 1: [2]}\n",
      "{8: [0], 9: [0], 0: [1], 1: [1], 4: [2], 5: [2], 6: [3], 7: [3], 10: [4], 11: [4], 12: [5], 13: [5]}\n",
      "{8: [0], 9: [0], 0: [1], 1: [1], 4: [2], 5: [2], 6: [3], 7: [3], 10: [4], 11: [4], 12: [5], 13: [5]}\n",
      "{10: [0], 15: [1], 16: [1], 19: [2], 20: [2], 4: [3], 5: [3], 11: [4], 12: [4], 13: [4], 14: [4], 21: [5], 22: [5], 23: [5], 24: [5]}\n",
      "{12: [0], 13: [0], 14: [0], 15: [0], 0: [1], 1: [1], 6: [2], 7: [2], 8: [3], 9: [3], 10: [3], 11: [3], 20: [4], 21: [4], 22: [4], 23: [4], 24: [5], 25: [5], 26: [5], 27: [5]}\n",
      "{8: [0], 9: [0], 0: [1], 1: [1], 4: [2], 5: [2], 6: [3], 7: [3], 10: [4], 11: [4], 12: [5], 13: [5]}\n",
      "{12: [0], 13: [0], 14: [0], 15: [0], 0: [1], 1: [1], 6: [2], 7: [2], 8: [3], 9: [3], 10: [3], 11: [3], 20: [4], 21: [4], 22: [4], 23: [4], 24: [5], 25: [5], 26: [5], 27: [5]}\n",
      "{0: [0, 1], 1: [2]}\n",
      "{0: [0, 1], 1: [2]}\n",
      "{8: [0], 9: [0], 0: [1], 1: [1], 4: [2], 5: [2], 6: [3], 7: [3], 10: [4], 11: [4], 12: [5], 13: [5]}\n",
      "{4: [0], 5: [0], 2: [1], 3: [1], 10: [2], 11: [2], 12: [3], 13: [3]}\n",
      "{8: [0], 9: [0], 0: [1], 1: [1], 4: [2], 5: [2], 6: [3], 7: [3], 10: [4], 11: [4], 12: [5], 13: [5]}\n",
      "{8: [0], 9: [0], 0: [1], 1: [1], 4: [2], 5: [2], 6: [3], 7: [3], 10: [4], 11: [4], 12: [5], 13: [5]}\n",
      "{12: [0], 13: [0], 14: [0], 15: [0], 0: [1], 1: [1], 6: [2], 7: [2], 8: [3], 9: [3], 10: [3], 11: [3], 20: [4], 21: [4], 22: [4], 23: [4], 24: [5], 25: [5], 26: [5], 27: [5]}\n",
      "{8: [0], 9: [0], 0: [1], 1: [1], 4: [2], 5: [2], 6: [3], 7: [3], 10: [4], 11: [4], 12: [5], 13: [5]}\n",
      "{0: [0], 1: [1]}\n",
      "{3: [0], 1: [1], 5: [2], 6: [3]}\n",
      "{1: [0], 2: [0], 0: [1], 3: [2], 4: [2]}\n",
      "{0: [0], 1: [1]}\n",
      "{7: [0], 8: [0], 0: [1], 3: [2], 4: [2], 6: [3], 10: [4], 11: [4], 12: [5], 13: [5]}\n",
      "{8: [0], 9: [0], 0: [1], 1: [1], 4: [2], 5: [2], 6: [3], 7: [3], 10: [4], 11: [4], 12: [5], 13: [5]}\n",
      "{2: [0], 0: [1], 1: [2]}\n",
      "{8: [0], 9: [0], 0: [1], 1: [1], 4: [2], 5: [2], 6: [3], 7: [3], 10: [4], 11: [4], 12: [5], 13: [5]}\n",
      "{10: [0], 11: [0], 12: [0], 0: [1], 1: [1], 5: [2], 6: [2], 7: [3], 8: [3], 9: [3], 15: [4], 16: [4], 17: [4], 18: [5], 19: [5], 20: [5]}\n",
      "{0: [0], 1: [1], 3: [2]}\n",
      "{4: [0], 5: [0], 2: [1], 3: [1], 10: [2], 11: [2], 12: [3], 13: [3]}\n",
      "{1: [0]}\n",
      "{9: [0], 10: [0], 13: [1], 20: [2], 21: [2], 22: [3], 23: [3], 24: [4], 25: [4], 26: [4], 27: [4], 30: [5], 31: [5], 0: [6], 5: [7], 6: [7], 16: [8], 17: [8], 18: [8], 19: [8], 36: [9], 37: [9], 38: [10], 39: [10], 40: [10], 41: [10]}\n",
      "{1: [0]}\n",
      "{8: [0], 9: [0], 0: [1], 1: [1], 4: [2], 5: [2], 6: [3], 7: [3], 10: [4], 11: [4], 12: [5], 13: [5]}\n",
      "{0: [0], 1: [0], 2: [1], 4: [2]}\n",
      "{8: [0], 9: [0], 0: [1], 1: [1], 4: [2], 5: [2], 6: [3], 7: [3], 10: [4], 11: [4], 12: [5], 13: [5]}\n",
      "{4: [0], 5: [0], 2: [1], 3: [1], 10: [2], 11: [2], 12: [3], 13: [3]}\n",
      "{2: [0], 3: [0], 4: [0], 0: [1], 1: [1], 6: [2], 7: [2], 8: [2]}\n",
      "{5: [0], 9: [1], 12: [2], 3: [3], 6: [4], 7: [4], 8: [4], 13: [5], 14: [5], 15: [5]}\n",
      "{8: [0], 9: [0], 0: [1], 1: [1], 4: [2], 5: [2], 6: [3], 7: [3], 10: [4], 11: [4], 12: [5], 13: [5]}\n",
      "{11: [0], 12: [0], 13: [0], 0: [1], 1: [1], 5: [2], 6: [2], 7: [2], 9: [3], 10: [3], 15: [4], 16: [4], 17: [4]}\n",
      "{8: [0], 13: [1], 14: [1], 17: [2], 18: [2], 4: [3], 5: [3], 9: [4], 10: [4], 11: [4], 12: [4], 19: [5], 20: [5], 21: [5], 22: [5]}\n",
      "{0: [0], 1: [1], 3: [2]}\n",
      "{8: [0], 9: [0], 0: [1], 1: [1], 4: [2], 5: [2], 6: [3], 7: [3], 10: [4], 11: [4], 12: [5], 13: [5]}\n",
      "{8: [0], 9: [0], 0: [1], 1: [1], 4: [2], 5: [2], 6: [3], 7: [3], 10: [4], 11: [4], 12: [5], 13: [5]}\n",
      "{4: [0], 5: [0], 2: [1], 3: [1], 10: [2], 11: [2], 12: [3], 13: [3]}\n",
      "{8: [0], 9: [0], 0: [1], 1: [1], 4: [2], 5: [2], 6: [3], 7: [3], 10: [4], 11: [4], 12: [5], 13: [5]}\n",
      "{9: [0], 10: [0], 13: [1], 20: [2], 21: [2], 22: [3], 23: [3], 24: [4], 25: [4], 26: [4], 27: [4], 30: [5], 31: [5], 0: [6], 5: [7], 6: [7], 16: [8], 17: [8], 18: [8], 19: [8], 36: [9], 37: [9], 38: [10], 39: [10], 40: [10], 41: [10]}\n",
      "{8: [0], 9: [0], 0: [1], 1: [1], 4: [2], 5: [2], 6: [3], 7: [3], 10: [4], 11: [4], 12: [5], 13: [5]}\n",
      "{1: [0]}\n",
      "{7: [0], 0: [1], 1: [1], 2: [2], 3: [2], 5: [3], 6: [3]}\n",
      "{8: [0], 9: [0], 0: [1], 1: [1], 4: [2], 5: [2], 6: [3], 7: [3], 10: [4], 11: [4], 12: [5], 13: [5]}\n",
      "{11: [0], 12: [0], 13: [0], 0: [1], 1: [1], 5: [2], 6: [2], 7: [2], 9: [3], 10: [3], 15: [4], 16: [4], 17: [4], 18: [5], 19: [5], 20: [5]}\n",
      "{1: [0]}\n",
      "{0: [0], 1: [1]}\n",
      "{2: [0], 3: [1], 4: [1]}\n",
      "{8: [0], 13: [1], 14: [1], 17: [2], 18: [2], 4: [3], 5: [3], 9: [4], 10: [4], 11: [4], 12: [4], 19: [5], 20: [5], 21: [5], 22: [5]}\n",
      "{1: [0], 2: [1, 2], 4: [3]}\n",
      "{8: [0], 9: [0], 0: [1], 1: [1], 4: [2], 5: [2], 6: [3], 7: [3], 10: [4], 11: [4], 12: [5], 13: [5]}\n",
      "{8: [0], 9: [0], 0: [1], 1: [1], 4: [2], 5: [2], 6: [3], 7: [3], 10: [4], 11: [4], 12: [5], 13: [5]}\n",
      "{8: [0], 9: [0], 0: [1], 1: [1], 4: [2], 5: [2], 6: [3], 7: [3], 10: [4], 11: [4], 12: [5], 13: [5]}\n",
      "{8: [0], 9: [0], 0: [1], 1: [1], 4: [2], 5: [2], 6: [3], 7: [3], 10: [4], 11: [4], 12: [5], 13: [5]}\n",
      "{1: [0]}\n",
      "{4: [0], 5: [0], 2: [1], 3: [1], 10: [2], 11: [2], 12: [3], 13: [3]}\n",
      "{8: [0], 9: [0], 0: [1], 1: [1], 4: [2], 5: [2], 6: [3], 7: [3], 10: [4], 11: [4], 12: [5], 13: [5]}\n",
      "{4: [0], 5: [0], 2: [1], 3: [1], 10: [2], 11: [2], 12: [3], 13: [3]}\n",
      "{4: [0], 5: [0], 2: [1], 3: [1], 10: [2], 11: [2], 12: [3], 13: [3]}\n",
      "{8: [0], 9: [0], 0: [1], 1: [1], 4: [2], 5: [2], 6: [3], 7: [3], 10: [4], 11: [4], 12: [5], 13: [5]}\n",
      "{8: [0], 9: [0], 0: [1], 1: [1], 4: [2], 5: [2], 6: [3], 7: [3], 10: [4], 11: [4], 12: [5], 13: [5]}\n",
      "{8: [0], 9: [0], 0: [1], 1: [1], 4: [2], 5: [2], 6: [3], 7: [3], 10: [4], 11: [4], 12: [5], 13: [5]}\n",
      "{8: [0], 9: [0], 0: [1], 1: [1], 4: [2], 5: [2], 6: [3], 7: [3], 10: [4], 11: [4], 12: [5], 13: [5]}\n",
      "{8: [0], 9: [0], 0: [1], 1: [1], 4: [2], 5: [2], 6: [3], 7: [3], 10: [4], 11: [4], 12: [5], 13: [5]}\n",
      "{10: [0], 11: [0], 12: [0], 0: [1], 1: [1], 5: [2], 6: [2], 7: [3], 8: [3], 9: [3], 15: [4], 16: [4], 17: [4], 18: [5], 19: [5], 20: [5]}\n",
      "{0: [0], 1: [0], 4: [1], 5: [1], 6: [2], 7: [2], 10: [3], 11: [3], 12: [4], 13: [4]}\n",
      "{0: [0], 1: [1]}\n",
      "{12: [0], 13: [0], 14: [0], 15: [0], 0: [1], 1: [1], 6: [2], 7: [2], 8: [3], 9: [3], 10: [3], 11: [3], 20: [4], 21: [4], 22: [4], 23: [4], 24: [5], 25: [5], 26: [5], 27: [5]}\n",
      "{8: [0], 9: [0], 0: [1], 1: [1], 4: [2], 5: [2], 6: [3], 7: [3], 10: [4], 11: [4], 12: [5], 13: [5]}\n",
      "{2: [0], 3: [1], 4: [1]}\n",
      "{10: [0], 11: [0], 12: [0], 0: [1], 1: [1], 5: [2], 6: [2], 7: [3], 8: [3], 9: [3], 15: [4], 16: [4], 17: [4], 18: [5], 19: [5], 20: [5]}\n",
      "{1: [0]}\n",
      "{0: [0], 1: [1]}\n",
      "{8: [0], 9: [0], 0: [1], 1: [1], 4: [2], 5: [2], 6: [3], 7: [3], 10: [4], 11: [4], 12: [5], 13: [5]}\n",
      "{11: [0], 12: [0], 13: [0], 0: [1], 1: [1], 5: [2], 6: [2], 7: [2], 9: [3], 10: [3], 15: [4], 16: [4], 17: [4], 18: [5], 19: [5], 20: [5]}\n",
      "{8: [0], 9: [0], 0: [1], 1: [1], 4: [2], 5: [2], 6: [3], 7: [3], 10: [4], 11: [4], 12: [5], 13: [5]}\n",
      "{2: [0], 0: [1], 1: [2]}\n",
      "{11: [0], 12: [0], 13: [0], 0: [1], 1: [1], 5: [2], 6: [2], 7: [2], 9: [3], 10: [3], 15: [4], 16: [4], 17: [4], 18: [5], 19: [5], 20: [5]}\n",
      "{10: [0], 11: [0], 12: [0], 0: [1], 1: [1], 5: [2], 6: [2], 7: [3], 8: [3], 9: [3], 15: [4], 16: [4], 17: [4], 18: [5], 19: [5], 20: [5]}\n",
      "{8: [0], 9: [0], 0: [1], 1: [1], 4: [2], 5: [2], 6: [3], 7: [3], 10: [4], 11: [4], 12: [5], 13: [5]}\n",
      "{0: [0], 1: [1]}\n",
      "{8: [0], 9: [0], 0: [1], 1: [1], 4: [2], 5: [2], 6: [3], 7: [3], 10: [4], 11: [4], 12: [5], 13: [5]}\n",
      "{8: [0], 9: [0], 0: [1], 1: [1], 4: [2], 5: [2], 6: [3], 7: [3], 10: [4], 11: [4], 12: [5], 13: [5]}\n",
      "{10: [0], 11: [0], 12: [0], 0: [1], 1: [1], 5: [2], 6: [2], 7: [3], 8: [3], 9: [3], 15: [4], 16: [4], 17: [4], 18: [5], 19: [5], 20: [5]}\n",
      "{0: [0], 1: [1]}\n",
      "{4: [0], 5: [0], 2: [1], 3: [1], 10: [2], 11: [2], 12: [3], 13: [3]}\n",
      "{8: [0], 9: [0], 0: [1], 1: [1], 4: [2], 5: [2], 6: [3], 7: [3], 10: [4], 11: [4], 12: [5], 13: [5]}\n",
      "{0: [0], 2: [1], 1: [2]}\n",
      "{0: [0], 2: [1], 1: [2]}\n",
      "{12: [0], 13: [0], 14: [0], 15: [0], 0: [1], 1: [1], 6: [2], 7: [2], 8: [3], 9: [3], 10: [3], 11: [3], 20: [4], 21: [4], 22: [4], 23: [4], 24: [5], 25: [5], 26: [5], 27: [5]}\n",
      "{7: [0], 8: [0], 0: [1], 3: [2], 4: [2], 6: [3], 10: [4], 11: [4]}\n",
      "{10: [0], 11: [0], 12: [0], 0: [1], 1: [1], 5: [2], 6: [2], 7: [3], 8: [3], 9: [3], 15: [4], 16: [4], 17: [4], 18: [5], 19: [5], 20: [5]}\n",
      "{12: [0], 13: [0], 14: [0], 15: [0], 0: [1], 1: [1], 6: [2], 7: [2], 8: [3], 9: [3], 10: [3], 11: [3], 20: [4], 21: [4], 22: [4], 23: [4], 24: [5], 25: [5], 26: [5], 27: [5]}\n",
      "{1: [0]}\n",
      "{8: [0], 9: [0], 0: [1], 1: [1], 4: [2], 5: [2], 6: [3], 7: [3], 10: [4], 11: [4], 12: [5], 13: [5]}\n",
      "{0: [0], 1: [1]}\n",
      "{1: [0], 2: [0], 0: [1], 3: [2], 4: [2]}\n",
      "{6: [0], 0: [1], 1: [1], 2: [2], 3: [2], 5: [3]}\n"
     ]
    }
   ],
   "source": [
    "for array in parseKML(\"2019_polygons.kml\"):\n",
    "    X, y = pixelPairs(array, \"2019-05-01\", \"2019-09-30\")\n",
    "    if len(X):\n",
    "        sar = np.concatenate((sar, X), axis=0) if not sar is None else X\n",
    "        ndvi = np.append(ndvi, y)"
   ]
  },
  {
   "cell_type": "code",
   "execution_count": 10,
   "metadata": {
    "collapsed": true,
    "jupyter": {
     "outputs_hidden": true
    }
   },
   "outputs": [
    {
     "name": "stdout",
     "output_type": "stream",
     "text": [
      "Training new model...\n",
      "Train set size: 2818849\n",
      "Test set size: 497445\n",
      "Saving to model_2018...\n",
      "Done!\n",
      "Scoring...\n"
     ]
    },
    {
     "ename": "KeyboardInterrupt",
     "evalue": "",
     "output_type": "error",
     "traceback": [
      "\u001b[0;31m---------------------------------------------------------------------------\u001b[0m",
      "\u001b[0;31mKeyboardInterrupt\u001b[0m                         Traceback (most recent call last)",
      "\u001b[0;32m<ipython-input-10-11ac27b41605>\u001b[0m in \u001b[0;36m<module>\u001b[0;34m\u001b[0m\n\u001b[0;32m----> 1\u001b[0;31m \u001b[0mmodel\u001b[0m\u001b[0;34m.\u001b[0m\u001b[0mtrain_and_test\u001b[0m\u001b[0;34m(\u001b[0m\u001b[0msar\u001b[0m\u001b[0;34m,\u001b[0m \u001b[0mndvi\u001b[0m\u001b[0;34m,\u001b[0m \u001b[0mtest_split\u001b[0m\u001b[0;34m=\u001b[0m\u001b[0;36m0.15\u001b[0m\u001b[0;34m,\u001b[0m \u001b[0mfile_name\u001b[0m\u001b[0;34m=\u001b[0m\u001b[0;34m\"model_2018\"\u001b[0m\u001b[0;34m)\u001b[0m\u001b[0;34m\u001b[0m\u001b[0;34m\u001b[0m\u001b[0m\n\u001b[0m",
      "\u001b[0;32m~/git/crop-canopy-estimation/model.py\u001b[0m in \u001b[0;36mtrain_and_test\u001b[0;34m(X, y, test_split, file_name)\u001b[0m\n\u001b[1;32m     52\u001b[0m         \u001b[0mprint\u001b[0m\u001b[0;34m(\u001b[0m\u001b[0;34m\"Done!\"\u001b[0m\u001b[0;34m)\u001b[0m\u001b[0;34m\u001b[0m\u001b[0;34m\u001b[0m\u001b[0m\n\u001b[1;32m     53\u001b[0m     \u001b[0mprint\u001b[0m\u001b[0;34m(\u001b[0m\u001b[0;34m\"Scoring...\"\u001b[0m\u001b[0;34m)\u001b[0m\u001b[0;34m\u001b[0m\u001b[0;34m\u001b[0m\u001b[0m\n\u001b[0;32m---> 54\u001b[0;31m     \u001b[0mscore\u001b[0m \u001b[0;34m=\u001b[0m \u001b[0mregr\u001b[0m\u001b[0;34m.\u001b[0m\u001b[0mscore\u001b[0m\u001b[0;34m(\u001b[0m\u001b[0mX_test\u001b[0m\u001b[0;34m,\u001b[0m \u001b[0my_test\u001b[0m\u001b[0;34m)\u001b[0m\u001b[0;34m\u001b[0m\u001b[0;34m\u001b[0m\u001b[0m\n\u001b[0m\u001b[1;32m     55\u001b[0m     \u001b[0mprint\u001b[0m\u001b[0;34m(\u001b[0m\u001b[0;34m\"Regression score: R^2={}\"\u001b[0m\u001b[0;34m.\u001b[0m\u001b[0mformat\u001b[0m\u001b[0;34m(\u001b[0m\u001b[0mscore\u001b[0m\u001b[0;34m)\u001b[0m\u001b[0;34m)\u001b[0m\u001b[0;34m\u001b[0m\u001b[0;34m\u001b[0m\u001b[0m\n\u001b[1;32m     56\u001b[0m \u001b[0;34m\u001b[0m\u001b[0m\n",
      "\u001b[0;32m~/git/crop-canopy-estimation/venv/lib/python3.6/site-packages/sklearn/base.py\u001b[0m in \u001b[0;36mscore\u001b[0;34m(self, X, y, sample_weight)\u001b[0m\n\u001b[1;32m    420\u001b[0m         \u001b[0;32mfrom\u001b[0m \u001b[0;34m.\u001b[0m\u001b[0mmetrics\u001b[0m \u001b[0;32mimport\u001b[0m \u001b[0mr2_score\u001b[0m\u001b[0;34m\u001b[0m\u001b[0;34m\u001b[0m\u001b[0m\n\u001b[1;32m    421\u001b[0m         \u001b[0;32mfrom\u001b[0m \u001b[0;34m.\u001b[0m\u001b[0mmetrics\u001b[0m\u001b[0;34m.\u001b[0m\u001b[0m_regression\u001b[0m \u001b[0;32mimport\u001b[0m \u001b[0m_check_reg_targets\u001b[0m\u001b[0;34m\u001b[0m\u001b[0;34m\u001b[0m\u001b[0m\n\u001b[0;32m--> 422\u001b[0;31m         \u001b[0my_pred\u001b[0m \u001b[0;34m=\u001b[0m \u001b[0mself\u001b[0m\u001b[0;34m.\u001b[0m\u001b[0mpredict\u001b[0m\u001b[0;34m(\u001b[0m\u001b[0mX\u001b[0m\u001b[0;34m)\u001b[0m\u001b[0;34m\u001b[0m\u001b[0;34m\u001b[0m\u001b[0m\n\u001b[0m\u001b[1;32m    423\u001b[0m         \u001b[0;31m# XXX: Remove the check in 0.23\u001b[0m\u001b[0;34m\u001b[0m\u001b[0;34m\u001b[0m\u001b[0;34m\u001b[0m\u001b[0m\n\u001b[1;32m    424\u001b[0m         \u001b[0my_type\u001b[0m\u001b[0;34m,\u001b[0m \u001b[0m_\u001b[0m\u001b[0;34m,\u001b[0m \u001b[0m_\u001b[0m\u001b[0;34m,\u001b[0m \u001b[0m_\u001b[0m \u001b[0;34m=\u001b[0m \u001b[0m_check_reg_targets\u001b[0m\u001b[0;34m(\u001b[0m\u001b[0my\u001b[0m\u001b[0;34m,\u001b[0m \u001b[0my_pred\u001b[0m\u001b[0;34m,\u001b[0m \u001b[0;32mNone\u001b[0m\u001b[0;34m)\u001b[0m\u001b[0;34m\u001b[0m\u001b[0;34m\u001b[0m\u001b[0m\n",
      "\u001b[0;32m~/git/crop-canopy-estimation/venv/lib/python3.6/site-packages/sklearn/ensemble/_forest.py\u001b[0m in \u001b[0;36mpredict\u001b[0;34m(self, X)\u001b[0m\n\u001b[1;32m    780\u001b[0m                  \u001b[0;34m**\u001b[0m\u001b[0m_joblib_parallel_args\u001b[0m\u001b[0;34m(\u001b[0m\u001b[0mrequire\u001b[0m\u001b[0;34m=\u001b[0m\u001b[0;34m\"sharedmem\"\u001b[0m\u001b[0;34m)\u001b[0m\u001b[0;34m)\u001b[0m\u001b[0;34m(\u001b[0m\u001b[0;34m\u001b[0m\u001b[0;34m\u001b[0m\u001b[0m\n\u001b[1;32m    781\u001b[0m             \u001b[0mdelayed\u001b[0m\u001b[0;34m(\u001b[0m\u001b[0m_accumulate_prediction\u001b[0m\u001b[0;34m)\u001b[0m\u001b[0;34m(\u001b[0m\u001b[0me\u001b[0m\u001b[0;34m.\u001b[0m\u001b[0mpredict\u001b[0m\u001b[0;34m,\u001b[0m \u001b[0mX\u001b[0m\u001b[0;34m,\u001b[0m \u001b[0;34m[\u001b[0m\u001b[0my_hat\u001b[0m\u001b[0;34m]\u001b[0m\u001b[0;34m,\u001b[0m \u001b[0mlock\u001b[0m\u001b[0;34m)\u001b[0m\u001b[0;34m\u001b[0m\u001b[0;34m\u001b[0m\u001b[0m\n\u001b[0;32m--> 782\u001b[0;31m             for e in self.estimators_)\n\u001b[0m\u001b[1;32m    783\u001b[0m \u001b[0;34m\u001b[0m\u001b[0m\n\u001b[1;32m    784\u001b[0m         \u001b[0my_hat\u001b[0m \u001b[0;34m/=\u001b[0m \u001b[0mlen\u001b[0m\u001b[0;34m(\u001b[0m\u001b[0mself\u001b[0m\u001b[0;34m.\u001b[0m\u001b[0mestimators_\u001b[0m\u001b[0;34m)\u001b[0m\u001b[0;34m\u001b[0m\u001b[0;34m\u001b[0m\u001b[0m\n",
      "\u001b[0;32m~/git/crop-canopy-estimation/venv/lib/python3.6/site-packages/joblib/parallel.py\u001b[0m in \u001b[0;36m__call__\u001b[0;34m(self, iterable)\u001b[0m\n\u001b[1;32m   1005\u001b[0m                 \u001b[0mself\u001b[0m\u001b[0;34m.\u001b[0m\u001b[0m_iterating\u001b[0m \u001b[0;34m=\u001b[0m \u001b[0mself\u001b[0m\u001b[0;34m.\u001b[0m\u001b[0m_original_iterator\u001b[0m \u001b[0;32mis\u001b[0m \u001b[0;32mnot\u001b[0m \u001b[0;32mNone\u001b[0m\u001b[0;34m\u001b[0m\u001b[0;34m\u001b[0m\u001b[0m\n\u001b[1;32m   1006\u001b[0m \u001b[0;34m\u001b[0m\u001b[0m\n\u001b[0;32m-> 1007\u001b[0;31m             \u001b[0;32mwhile\u001b[0m \u001b[0mself\u001b[0m\u001b[0;34m.\u001b[0m\u001b[0mdispatch_one_batch\u001b[0m\u001b[0;34m(\u001b[0m\u001b[0miterator\u001b[0m\u001b[0;34m)\u001b[0m\u001b[0;34m:\u001b[0m\u001b[0;34m\u001b[0m\u001b[0;34m\u001b[0m\u001b[0m\n\u001b[0m\u001b[1;32m   1008\u001b[0m                 \u001b[0;32mpass\u001b[0m\u001b[0;34m\u001b[0m\u001b[0;34m\u001b[0m\u001b[0m\n\u001b[1;32m   1009\u001b[0m \u001b[0;34m\u001b[0m\u001b[0m\n",
      "\u001b[0;32m~/git/crop-canopy-estimation/venv/lib/python3.6/site-packages/joblib/parallel.py\u001b[0m in \u001b[0;36mdispatch_one_batch\u001b[0;34m(self, iterator)\u001b[0m\n\u001b[1;32m    833\u001b[0m                 \u001b[0;32mreturn\u001b[0m \u001b[0;32mFalse\u001b[0m\u001b[0;34m\u001b[0m\u001b[0;34m\u001b[0m\u001b[0m\n\u001b[1;32m    834\u001b[0m             \u001b[0;32melse\u001b[0m\u001b[0;34m:\u001b[0m\u001b[0;34m\u001b[0m\u001b[0;34m\u001b[0m\u001b[0m\n\u001b[0;32m--> 835\u001b[0;31m                 \u001b[0mself\u001b[0m\u001b[0;34m.\u001b[0m\u001b[0m_dispatch\u001b[0m\u001b[0;34m(\u001b[0m\u001b[0mtasks\u001b[0m\u001b[0;34m)\u001b[0m\u001b[0;34m\u001b[0m\u001b[0;34m\u001b[0m\u001b[0m\n\u001b[0m\u001b[1;32m    836\u001b[0m                 \u001b[0;32mreturn\u001b[0m \u001b[0;32mTrue\u001b[0m\u001b[0;34m\u001b[0m\u001b[0;34m\u001b[0m\u001b[0m\n\u001b[1;32m    837\u001b[0m \u001b[0;34m\u001b[0m\u001b[0m\n",
      "\u001b[0;32m~/git/crop-canopy-estimation/venv/lib/python3.6/site-packages/joblib/parallel.py\u001b[0m in \u001b[0;36m_dispatch\u001b[0;34m(self, batch)\u001b[0m\n\u001b[1;32m    752\u001b[0m         \u001b[0;32mwith\u001b[0m \u001b[0mself\u001b[0m\u001b[0;34m.\u001b[0m\u001b[0m_lock\u001b[0m\u001b[0;34m:\u001b[0m\u001b[0;34m\u001b[0m\u001b[0;34m\u001b[0m\u001b[0m\n\u001b[1;32m    753\u001b[0m             \u001b[0mjob_idx\u001b[0m \u001b[0;34m=\u001b[0m \u001b[0mlen\u001b[0m\u001b[0;34m(\u001b[0m\u001b[0mself\u001b[0m\u001b[0;34m.\u001b[0m\u001b[0m_jobs\u001b[0m\u001b[0;34m)\u001b[0m\u001b[0;34m\u001b[0m\u001b[0;34m\u001b[0m\u001b[0m\n\u001b[0;32m--> 754\u001b[0;31m             \u001b[0mjob\u001b[0m \u001b[0;34m=\u001b[0m \u001b[0mself\u001b[0m\u001b[0;34m.\u001b[0m\u001b[0m_backend\u001b[0m\u001b[0;34m.\u001b[0m\u001b[0mapply_async\u001b[0m\u001b[0;34m(\u001b[0m\u001b[0mbatch\u001b[0m\u001b[0;34m,\u001b[0m \u001b[0mcallback\u001b[0m\u001b[0;34m=\u001b[0m\u001b[0mcb\u001b[0m\u001b[0;34m)\u001b[0m\u001b[0;34m\u001b[0m\u001b[0;34m\u001b[0m\u001b[0m\n\u001b[0m\u001b[1;32m    755\u001b[0m             \u001b[0;31m# A job can complete so quickly than its callback is\u001b[0m\u001b[0;34m\u001b[0m\u001b[0;34m\u001b[0m\u001b[0;34m\u001b[0m\u001b[0m\n\u001b[1;32m    756\u001b[0m             \u001b[0;31m# called before we get here, causing self._jobs to\u001b[0m\u001b[0;34m\u001b[0m\u001b[0;34m\u001b[0m\u001b[0;34m\u001b[0m\u001b[0m\n",
      "\u001b[0;32m~/git/crop-canopy-estimation/venv/lib/python3.6/site-packages/joblib/_parallel_backends.py\u001b[0m in \u001b[0;36mapply_async\u001b[0;34m(self, func, callback)\u001b[0m\n\u001b[1;32m    207\u001b[0m     \u001b[0;32mdef\u001b[0m \u001b[0mapply_async\u001b[0m\u001b[0;34m(\u001b[0m\u001b[0mself\u001b[0m\u001b[0;34m,\u001b[0m \u001b[0mfunc\u001b[0m\u001b[0;34m,\u001b[0m \u001b[0mcallback\u001b[0m\u001b[0;34m=\u001b[0m\u001b[0;32mNone\u001b[0m\u001b[0;34m)\u001b[0m\u001b[0;34m:\u001b[0m\u001b[0;34m\u001b[0m\u001b[0;34m\u001b[0m\u001b[0m\n\u001b[1;32m    208\u001b[0m         \u001b[0;34m\"\"\"Schedule a func to be run\"\"\"\u001b[0m\u001b[0;34m\u001b[0m\u001b[0;34m\u001b[0m\u001b[0m\n\u001b[0;32m--> 209\u001b[0;31m         \u001b[0mresult\u001b[0m \u001b[0;34m=\u001b[0m \u001b[0mImmediateResult\u001b[0m\u001b[0;34m(\u001b[0m\u001b[0mfunc\u001b[0m\u001b[0;34m)\u001b[0m\u001b[0;34m\u001b[0m\u001b[0;34m\u001b[0m\u001b[0m\n\u001b[0m\u001b[1;32m    210\u001b[0m         \u001b[0;32mif\u001b[0m \u001b[0mcallback\u001b[0m\u001b[0;34m:\u001b[0m\u001b[0;34m\u001b[0m\u001b[0;34m\u001b[0m\u001b[0m\n\u001b[1;32m    211\u001b[0m             \u001b[0mcallback\u001b[0m\u001b[0;34m(\u001b[0m\u001b[0mresult\u001b[0m\u001b[0;34m)\u001b[0m\u001b[0;34m\u001b[0m\u001b[0;34m\u001b[0m\u001b[0m\n",
      "\u001b[0;32m~/git/crop-canopy-estimation/venv/lib/python3.6/site-packages/joblib/_parallel_backends.py\u001b[0m in \u001b[0;36m__init__\u001b[0;34m(self, batch)\u001b[0m\n\u001b[1;32m    588\u001b[0m         \u001b[0;31m# Don't delay the application, to avoid keeping the input\u001b[0m\u001b[0;34m\u001b[0m\u001b[0;34m\u001b[0m\u001b[0;34m\u001b[0m\u001b[0m\n\u001b[1;32m    589\u001b[0m         \u001b[0;31m# arguments in memory\u001b[0m\u001b[0;34m\u001b[0m\u001b[0;34m\u001b[0m\u001b[0;34m\u001b[0m\u001b[0m\n\u001b[0;32m--> 590\u001b[0;31m         \u001b[0mself\u001b[0m\u001b[0;34m.\u001b[0m\u001b[0mresults\u001b[0m \u001b[0;34m=\u001b[0m \u001b[0mbatch\u001b[0m\u001b[0;34m(\u001b[0m\u001b[0;34m)\u001b[0m\u001b[0;34m\u001b[0m\u001b[0;34m\u001b[0m\u001b[0m\n\u001b[0m\u001b[1;32m    591\u001b[0m \u001b[0;34m\u001b[0m\u001b[0m\n\u001b[1;32m    592\u001b[0m     \u001b[0;32mdef\u001b[0m \u001b[0mget\u001b[0m\u001b[0;34m(\u001b[0m\u001b[0mself\u001b[0m\u001b[0;34m)\u001b[0m\u001b[0;34m:\u001b[0m\u001b[0;34m\u001b[0m\u001b[0;34m\u001b[0m\u001b[0m\n",
      "\u001b[0;32m~/git/crop-canopy-estimation/venv/lib/python3.6/site-packages/joblib/parallel.py\u001b[0m in \u001b[0;36m__call__\u001b[0;34m(self)\u001b[0m\n\u001b[1;32m    254\u001b[0m         \u001b[0;32mwith\u001b[0m \u001b[0mparallel_backend\u001b[0m\u001b[0;34m(\u001b[0m\u001b[0mself\u001b[0m\u001b[0;34m.\u001b[0m\u001b[0m_backend\u001b[0m\u001b[0;34m,\u001b[0m \u001b[0mn_jobs\u001b[0m\u001b[0;34m=\u001b[0m\u001b[0mself\u001b[0m\u001b[0;34m.\u001b[0m\u001b[0m_n_jobs\u001b[0m\u001b[0;34m)\u001b[0m\u001b[0;34m:\u001b[0m\u001b[0;34m\u001b[0m\u001b[0;34m\u001b[0m\u001b[0m\n\u001b[1;32m    255\u001b[0m             return [func(*args, **kwargs)\n\u001b[0;32m--> 256\u001b[0;31m                     for func, args, kwargs in self.items]\n\u001b[0m\u001b[1;32m    257\u001b[0m \u001b[0;34m\u001b[0m\u001b[0m\n\u001b[1;32m    258\u001b[0m     \u001b[0;32mdef\u001b[0m \u001b[0m__len__\u001b[0m\u001b[0;34m(\u001b[0m\u001b[0mself\u001b[0m\u001b[0;34m)\u001b[0m\u001b[0;34m:\u001b[0m\u001b[0;34m\u001b[0m\u001b[0;34m\u001b[0m\u001b[0m\n",
      "\u001b[0;32m~/git/crop-canopy-estimation/venv/lib/python3.6/site-packages/joblib/parallel.py\u001b[0m in \u001b[0;36m<listcomp>\u001b[0;34m(.0)\u001b[0m\n\u001b[1;32m    254\u001b[0m         \u001b[0;32mwith\u001b[0m \u001b[0mparallel_backend\u001b[0m\u001b[0;34m(\u001b[0m\u001b[0mself\u001b[0m\u001b[0;34m.\u001b[0m\u001b[0m_backend\u001b[0m\u001b[0;34m,\u001b[0m \u001b[0mn_jobs\u001b[0m\u001b[0;34m=\u001b[0m\u001b[0mself\u001b[0m\u001b[0;34m.\u001b[0m\u001b[0m_n_jobs\u001b[0m\u001b[0;34m)\u001b[0m\u001b[0;34m:\u001b[0m\u001b[0;34m\u001b[0m\u001b[0;34m\u001b[0m\u001b[0m\n\u001b[1;32m    255\u001b[0m             return [func(*args, **kwargs)\n\u001b[0;32m--> 256\u001b[0;31m                     for func, args, kwargs in self.items]\n\u001b[0m\u001b[1;32m    257\u001b[0m \u001b[0;34m\u001b[0m\u001b[0m\n\u001b[1;32m    258\u001b[0m     \u001b[0;32mdef\u001b[0m \u001b[0m__len__\u001b[0m\u001b[0;34m(\u001b[0m\u001b[0mself\u001b[0m\u001b[0;34m)\u001b[0m\u001b[0;34m:\u001b[0m\u001b[0;34m\u001b[0m\u001b[0;34m\u001b[0m\u001b[0m\n",
      "\u001b[0;32m~/git/crop-canopy-estimation/venv/lib/python3.6/site-packages/sklearn/ensemble/_forest.py\u001b[0m in \u001b[0;36m_accumulate_prediction\u001b[0;34m(predict, X, out, lock)\u001b[0m\n\u001b[1;32m    447\u001b[0m     \u001b[0mcomplains\u001b[0m \u001b[0mthat\u001b[0m \u001b[0mit\u001b[0m \u001b[0mcannot\u001b[0m \u001b[0mpickle\u001b[0m \u001b[0mit\u001b[0m \u001b[0mwhen\u001b[0m \u001b[0mplaced\u001b[0m \u001b[0mthere\u001b[0m\u001b[0;34m.\u001b[0m\u001b[0;34m\u001b[0m\u001b[0;34m\u001b[0m\u001b[0m\n\u001b[1;32m    448\u001b[0m     \"\"\"\n\u001b[0;32m--> 449\u001b[0;31m     \u001b[0mprediction\u001b[0m \u001b[0;34m=\u001b[0m \u001b[0mpredict\u001b[0m\u001b[0;34m(\u001b[0m\u001b[0mX\u001b[0m\u001b[0;34m,\u001b[0m \u001b[0mcheck_input\u001b[0m\u001b[0;34m=\u001b[0m\u001b[0;32mFalse\u001b[0m\u001b[0;34m)\u001b[0m\u001b[0;34m\u001b[0m\u001b[0;34m\u001b[0m\u001b[0m\n\u001b[0m\u001b[1;32m    450\u001b[0m     \u001b[0;32mwith\u001b[0m \u001b[0mlock\u001b[0m\u001b[0;34m:\u001b[0m\u001b[0;34m\u001b[0m\u001b[0;34m\u001b[0m\u001b[0m\n\u001b[1;32m    451\u001b[0m         \u001b[0;32mif\u001b[0m \u001b[0mlen\u001b[0m\u001b[0;34m(\u001b[0m\u001b[0mout\u001b[0m\u001b[0;34m)\u001b[0m \u001b[0;34m==\u001b[0m \u001b[0;36m1\u001b[0m\u001b[0;34m:\u001b[0m\u001b[0;34m\u001b[0m\u001b[0;34m\u001b[0m\u001b[0m\n",
      "\u001b[0;32m~/git/crop-canopy-estimation/venv/lib/python3.6/site-packages/sklearn/tree/_classes.py\u001b[0m in \u001b[0;36mpredict\u001b[0;34m(self, X, check_input)\u001b[0m\n\u001b[1;32m    418\u001b[0m         \u001b[0mcheck_is_fitted\u001b[0m\u001b[0;34m(\u001b[0m\u001b[0mself\u001b[0m\u001b[0;34m)\u001b[0m\u001b[0;34m\u001b[0m\u001b[0;34m\u001b[0m\u001b[0m\n\u001b[1;32m    419\u001b[0m         \u001b[0mX\u001b[0m \u001b[0;34m=\u001b[0m \u001b[0mself\u001b[0m\u001b[0;34m.\u001b[0m\u001b[0m_validate_X_predict\u001b[0m\u001b[0;34m(\u001b[0m\u001b[0mX\u001b[0m\u001b[0;34m,\u001b[0m \u001b[0mcheck_input\u001b[0m\u001b[0;34m)\u001b[0m\u001b[0;34m\u001b[0m\u001b[0;34m\u001b[0m\u001b[0m\n\u001b[0;32m--> 420\u001b[0;31m         \u001b[0mproba\u001b[0m \u001b[0;34m=\u001b[0m \u001b[0mself\u001b[0m\u001b[0;34m.\u001b[0m\u001b[0mtree_\u001b[0m\u001b[0;34m.\u001b[0m\u001b[0mpredict\u001b[0m\u001b[0;34m(\u001b[0m\u001b[0mX\u001b[0m\u001b[0;34m)\u001b[0m\u001b[0;34m\u001b[0m\u001b[0;34m\u001b[0m\u001b[0m\n\u001b[0m\u001b[1;32m    421\u001b[0m         \u001b[0mn_samples\u001b[0m \u001b[0;34m=\u001b[0m \u001b[0mX\u001b[0m\u001b[0;34m.\u001b[0m\u001b[0mshape\u001b[0m\u001b[0;34m[\u001b[0m\u001b[0;36m0\u001b[0m\u001b[0;34m]\u001b[0m\u001b[0;34m\u001b[0m\u001b[0;34m\u001b[0m\u001b[0m\n\u001b[1;32m    422\u001b[0m \u001b[0;34m\u001b[0m\u001b[0m\n",
      "\u001b[0;31mKeyboardInterrupt\u001b[0m: "
     ]
    }
   ],
   "source": []
  },
  {
   "cell_type": "code",
   "execution_count": 20,
   "metadata": {},
   "outputs": [],
   "source": [
    "sar2017 = np.load(\"pixel_data/2017_sar_px.npy\")\n",
    "ndvi2017 = np.load(\"pixel_data/2017_ndvi_px.npy\")\n",
    "sar2018 = np.load(\"pixel_data/2018_sar_px.npy\")\n",
    "ndvi2018 = np.load(\"pixel_data/2018_ndvi_px.npy\")\n",
    "sar2019 = np.load(\"pixel_data/2019_sar_px.npy\")\n",
    "ndvi2019 = np.load(\"pixel_data/2019_ndvi_px.npy\")"
   ]
  },
  {
   "cell_type": "code",
   "execution_count": 23,
   "metadata": {},
   "outputs": [],
   "source": [
    "sar2017, ndvi2017 = unison_shuffled_copies(sar2017, ndvi2017)\n",
    "sar2018, ndvi2018 = unison_shuffled_copies(sar2018, ndvi2018)\n",
    "sar2019, ndvi2019 = unison_shuffled_copies(sar2019, ndvi2019)"
   ]
  },
  {
   "cell_type": "code",
   "execution_count": 26,
   "metadata": {},
   "outputs": [],
   "source": [
    "sar = np.concatenate((np.take(sar2017, np.arange(400000), axis=0), np.take(sar2018, np.arange(400000), axis=0), np.take(sar2019, np.arange(400000), axis=0)), axis=0)"
   ]
  },
  {
   "cell_type": "code",
   "execution_count": 29,
   "metadata": {},
   "outputs": [],
   "source": [
    "ndvi = np.concatenate((np.take(ndvi2017, np.arange(400000), axis=0), np.take(ndvi2018, np.arange(400000), axis=0), np.take(ndvi2019, np.arange(400000), axis=0)), axis=0)"
   ]
  },
  {
   "cell_type": "code",
   "execution_count": 32,
   "metadata": {},
   "outputs": [
    {
     "name": "stdout",
     "output_type": "stream",
     "text": [
      "Training new model...\n",
      "Train set size: 1140000\n",
      "Test set size: 60000\n",
      "Saving to model_mixed...\n",
      "Done!\n",
      "Scoring...\n",
      "Regression score: R^2=0.6142469150496767\n"
     ]
    }
   ],
   "source": [
    "model.train_and_test(sar, ndvi, test_split=0.05, file_name=\"model_mixed\")"
   ]
  },
  {
   "cell_type": "code",
   "execution_count": 3,
   "metadata": {},
   "outputs": [],
   "source": [
    "from joblib import dump, load\n",
    "from visualize import visualize\n",
    "regr = load(\"model_mixed\")"
   ]
  },
  {
   "cell_type": "code",
   "execution_count": 23,
   "metadata": {},
   "outputs": [
    {
     "name": "stdout",
     "output_type": "stream",
     "text": [
      "Number of images:  100\n",
      "Number of images:  100\n",
      "Number of images:  100\n",
      "Number of images:  108\n"
     ]
    },
    {
     "ename": "ValueError",
     "evalue": "Found array with 0 sample(s) (shape=(0, 3)) while a minimum of 1 is required.",
     "output_type": "error",
     "traceback": [
      "\u001b[0;31m---------------------------------------------------------------------------\u001b[0m",
      "\u001b[0;31mValueError\u001b[0m                                Traceback (most recent call last)",
      "\u001b[0;32m<ipython-input-23-9f0c3860166d>\u001b[0m in \u001b[0;36m<module>\u001b[0;34m\u001b[0m\n\u001b[1;32m      1\u001b[0m \u001b[0;32mfor\u001b[0m \u001b[0mfield_no\u001b[0m \u001b[0;32min\u001b[0m \u001b[0mrange\u001b[0m\u001b[0;34m(\u001b[0m\u001b[0;36m30\u001b[0m\u001b[0;34m,\u001b[0m \u001b[0;36m40\u001b[0m\u001b[0;34m)\u001b[0m\u001b[0;34m:\u001b[0m\u001b[0;34m\u001b[0m\u001b[0;34m\u001b[0m\u001b[0m\n\u001b[0;32m----> 2\u001b[0;31m         \u001b[0mvisualize\u001b[0m\u001b[0;34m(\u001b[0m\u001b[0mfield_no\u001b[0m\u001b[0;34m,\u001b[0m \u001b[0mregr\u001b[0m\u001b[0;34m)\u001b[0m\u001b[0;34m\u001b[0m\u001b[0;34m\u001b[0m\u001b[0m\n\u001b[0m",
      "\u001b[0;32m~/git/crop-canopy-estimation/visualize.py\u001b[0m in \u001b[0;36mvisualize\u001b[0;34m(field_no, regr_model)\u001b[0m\n\u001b[1;32m     94\u001b[0m         \u001b[0mnrpd\u001b[0m \u001b[0;34m=\u001b[0m \u001b[0;34m(\u001b[0m\u001b[0mvh\u001b[0m \u001b[0;34m-\u001b[0m \u001b[0mvv\u001b[0m\u001b[0;34m)\u001b[0m \u001b[0;34m/\u001b[0m \u001b[0;34m(\u001b[0m\u001b[0mvh\u001b[0m \u001b[0;34m+\u001b[0m \u001b[0mvv\u001b[0m\u001b[0;34m)\u001b[0m\u001b[0;34m\u001b[0m\u001b[0;34m\u001b[0m\u001b[0m\n\u001b[1;32m     95\u001b[0m         \u001b[0mX\u001b[0m \u001b[0;34m=\u001b[0m \u001b[0mnp\u001b[0m\u001b[0;34m.\u001b[0m\u001b[0mstack\u001b[0m\u001b[0;34m(\u001b[0m\u001b[0;34m[\u001b[0m\u001b[0mvv\u001b[0m\u001b[0;34m,\u001b[0m \u001b[0mvh\u001b[0m\u001b[0;34m,\u001b[0m \u001b[0mnrpd\u001b[0m\u001b[0;34m]\u001b[0m\u001b[0;34m,\u001b[0m \u001b[0maxis\u001b[0m\u001b[0;34m=\u001b[0m\u001b[0;36m1\u001b[0m\u001b[0;34m)\u001b[0m\u001b[0;34m\u001b[0m\u001b[0;34m\u001b[0m\u001b[0m\n\u001b[0;32m---> 96\u001b[0;31m         \u001b[0my\u001b[0m \u001b[0;34m=\u001b[0m \u001b[0mregr_model\u001b[0m\u001b[0;34m.\u001b[0m\u001b[0mpredict\u001b[0m\u001b[0;34m(\u001b[0m\u001b[0mX\u001b[0m\u001b[0;34m)\u001b[0m\u001b[0;34m\u001b[0m\u001b[0;34m\u001b[0m\u001b[0m\n\u001b[0m\u001b[1;32m     97\u001b[0m         \u001b[0mndvi_pred\u001b[0m \u001b[0;34m=\u001b[0m \u001b[0mnp\u001b[0m\u001b[0;34m.\u001b[0m\u001b[0mappend\u001b[0m\u001b[0;34m(\u001b[0m\u001b[0mndvi_pred\u001b[0m\u001b[0;34m,\u001b[0m \u001b[0mmean\u001b[0m\u001b[0;34m(\u001b[0m\u001b[0my\u001b[0m\u001b[0;34m)\u001b[0m\u001b[0;34m)\u001b[0m\u001b[0;34m\u001b[0m\u001b[0;34m\u001b[0m\u001b[0m\n\u001b[1;32m     98\u001b[0m \u001b[0;34m\u001b[0m\u001b[0m\n",
      "\u001b[0;32m~/git/crop-canopy-estimation/venv/lib/python3.6/site-packages/sklearn/ensemble/_forest.py\u001b[0m in \u001b[0;36mpredict\u001b[0;34m(self, X)\u001b[0m\n\u001b[1;32m    764\u001b[0m         \u001b[0mcheck_is_fitted\u001b[0m\u001b[0;34m(\u001b[0m\u001b[0mself\u001b[0m\u001b[0;34m)\u001b[0m\u001b[0;34m\u001b[0m\u001b[0;34m\u001b[0m\u001b[0m\n\u001b[1;32m    765\u001b[0m         \u001b[0;31m# Check data\u001b[0m\u001b[0;34m\u001b[0m\u001b[0;34m\u001b[0m\u001b[0;34m\u001b[0m\u001b[0m\n\u001b[0;32m--> 766\u001b[0;31m         \u001b[0mX\u001b[0m \u001b[0;34m=\u001b[0m \u001b[0mself\u001b[0m\u001b[0;34m.\u001b[0m\u001b[0m_validate_X_predict\u001b[0m\u001b[0;34m(\u001b[0m\u001b[0mX\u001b[0m\u001b[0;34m)\u001b[0m\u001b[0;34m\u001b[0m\u001b[0;34m\u001b[0m\u001b[0m\n\u001b[0m\u001b[1;32m    767\u001b[0m \u001b[0;34m\u001b[0m\u001b[0m\n\u001b[1;32m    768\u001b[0m         \u001b[0;31m# Assign chunk of trees to jobs\u001b[0m\u001b[0;34m\u001b[0m\u001b[0;34m\u001b[0m\u001b[0;34m\u001b[0m\u001b[0m\n",
      "\u001b[0;32m~/git/crop-canopy-estimation/venv/lib/python3.6/site-packages/sklearn/ensemble/_forest.py\u001b[0m in \u001b[0;36m_validate_X_predict\u001b[0;34m(self, X)\u001b[0m\n\u001b[1;32m    410\u001b[0m         \u001b[0mcheck_is_fitted\u001b[0m\u001b[0;34m(\u001b[0m\u001b[0mself\u001b[0m\u001b[0;34m)\u001b[0m\u001b[0;34m\u001b[0m\u001b[0;34m\u001b[0m\u001b[0m\n\u001b[1;32m    411\u001b[0m \u001b[0;34m\u001b[0m\u001b[0m\n\u001b[0;32m--> 412\u001b[0;31m         \u001b[0;32mreturn\u001b[0m \u001b[0mself\u001b[0m\u001b[0;34m.\u001b[0m\u001b[0mestimators_\u001b[0m\u001b[0;34m[\u001b[0m\u001b[0;36m0\u001b[0m\u001b[0;34m]\u001b[0m\u001b[0;34m.\u001b[0m\u001b[0m_validate_X_predict\u001b[0m\u001b[0;34m(\u001b[0m\u001b[0mX\u001b[0m\u001b[0;34m,\u001b[0m \u001b[0mcheck_input\u001b[0m\u001b[0;34m=\u001b[0m\u001b[0;32mTrue\u001b[0m\u001b[0;34m)\u001b[0m\u001b[0;34m\u001b[0m\u001b[0;34m\u001b[0m\u001b[0m\n\u001b[0m\u001b[1;32m    413\u001b[0m \u001b[0;34m\u001b[0m\u001b[0m\n\u001b[1;32m    414\u001b[0m     \u001b[0;34m@\u001b[0m\u001b[0mproperty\u001b[0m\u001b[0;34m\u001b[0m\u001b[0;34m\u001b[0m\u001b[0m\n",
      "\u001b[0;32m~/git/crop-canopy-estimation/venv/lib/python3.6/site-packages/sklearn/tree/_classes.py\u001b[0m in \u001b[0;36m_validate_X_predict\u001b[0;34m(self, X, check_input)\u001b[0m\n\u001b[1;32m    378\u001b[0m         \u001b[0;34m\"\"\"Validate X whenever one tries to predict, apply, predict_proba\"\"\"\u001b[0m\u001b[0;34m\u001b[0m\u001b[0;34m\u001b[0m\u001b[0m\n\u001b[1;32m    379\u001b[0m         \u001b[0;32mif\u001b[0m \u001b[0mcheck_input\u001b[0m\u001b[0;34m:\u001b[0m\u001b[0;34m\u001b[0m\u001b[0;34m\u001b[0m\u001b[0m\n\u001b[0;32m--> 380\u001b[0;31m             \u001b[0mX\u001b[0m \u001b[0;34m=\u001b[0m \u001b[0mcheck_array\u001b[0m\u001b[0;34m(\u001b[0m\u001b[0mX\u001b[0m\u001b[0;34m,\u001b[0m \u001b[0mdtype\u001b[0m\u001b[0;34m=\u001b[0m\u001b[0mDTYPE\u001b[0m\u001b[0;34m,\u001b[0m \u001b[0maccept_sparse\u001b[0m\u001b[0;34m=\u001b[0m\u001b[0;34m\"csr\"\u001b[0m\u001b[0;34m)\u001b[0m\u001b[0;34m\u001b[0m\u001b[0;34m\u001b[0m\u001b[0m\n\u001b[0m\u001b[1;32m    381\u001b[0m             if issparse(X) and (X.indices.dtype != np.intc or\n\u001b[1;32m    382\u001b[0m                                 X.indptr.dtype != np.intc):\n",
      "\u001b[0;32m~/git/crop-canopy-estimation/venv/lib/python3.6/site-packages/sklearn/utils/validation.py\u001b[0m in \u001b[0;36mcheck_array\u001b[0;34m(array, accept_sparse, accept_large_sparse, dtype, order, copy, force_all_finite, ensure_2d, allow_nd, ensure_min_samples, ensure_min_features, warn_on_dtype, estimator)\u001b[0m\n\u001b[1;32m    584\u001b[0m                              \u001b[0;34m\" minimum of %d is required%s.\"\u001b[0m\u001b[0;34m\u001b[0m\u001b[0;34m\u001b[0m\u001b[0m\n\u001b[1;32m    585\u001b[0m                              % (n_samples, array.shape, ensure_min_samples,\n\u001b[0;32m--> 586\u001b[0;31m                                 context))\n\u001b[0m\u001b[1;32m    587\u001b[0m \u001b[0;34m\u001b[0m\u001b[0m\n\u001b[1;32m    588\u001b[0m     \u001b[0;32mif\u001b[0m \u001b[0mensure_min_features\u001b[0m \u001b[0;34m>\u001b[0m \u001b[0;36m0\u001b[0m \u001b[0;32mand\u001b[0m \u001b[0marray\u001b[0m\u001b[0;34m.\u001b[0m\u001b[0mndim\u001b[0m \u001b[0;34m==\u001b[0m \u001b[0;36m2\u001b[0m\u001b[0;34m:\u001b[0m\u001b[0;34m\u001b[0m\u001b[0;34m\u001b[0m\u001b[0m\n",
      "\u001b[0;31mValueError\u001b[0m: Found array with 0 sample(s) (shape=(0, 3)) while a minimum of 1 is required."
     ]
    },
    {
     "data": {
      "text/plain": [
       "<Figure size 432x288 with 0 Axes>"
      ]
     },
     "metadata": {},
     "output_type": "display_data"
    }
   ],
   "source": [
    "for field_no in range(30, 40):\n",
    "        visualize(field_no, regr)"
   ]
  },
  {
   "cell_type": "code",
   "execution_count": null,
   "metadata": {},
   "outputs": [],
   "source": []
  }
 ],
 "metadata": {
  "kernelspec": {
   "display_name": "Python 3",
   "language": "python",
   "name": "python3"
  },
  "language_info": {
   "codemirror_mode": {
    "name": "ipython",
    "version": 3
   },
   "file_extension": ".py",
   "mimetype": "text/x-python",
   "name": "python",
   "nbconvert_exporter": "python",
   "pygments_lexer": "ipython3",
   "version": "3.6.9"
  }
 },
 "nbformat": 4,
 "nbformat_minor": 4
}
