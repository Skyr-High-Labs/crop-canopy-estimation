{
 "cells": [
  {
   "cell_type": "code",
   "execution_count": 1,
   "metadata": {},
   "outputs": [],
   "source": [
    "import ee\n",
    "\n",
    "import model\n",
    "from pixelPairs import pixelPairs\n",
    "from reader import parseKML\n",
    "import numpy as np\n",
    "\n",
    "%load_ext autoreload\n",
    "%autoreload 2"
   ]
  },
  {
   "cell_type": "code",
   "execution_count": 84,
   "metadata": {},
   "outputs": [],
   "source": [
    "ee.Initialize()\n",
    "sar = None\n",
    "ndvi = np.array([])\n",
    "\n",
    "def unison_shuffled_copies(a, b):\n",
    "    assert len(a) == len(b)\n",
    "    p = np.random.permutation(len(a))\n",
    "    return a[p], b[p]"
   ]
  },
  {
   "cell_type": "code",
   "execution_count": 85,
   "metadata": {
    "collapsed": true,
    "jupyter": {
     "outputs_hidden": true
    }
   },
   "outputs": [
    {
     "name": "stdout",
     "output_type": "stream",
     "text": [
      "{1: [0], 2: [0], 3: [1], 4: [1], 5: [1], 6: [1], 7: [2], 8: [2], 0: [3]}\n",
      "{1: [0], 2: [0], 3: [1], 4: [2], 5: [2], 6: [2], 7: [2], 8: [3], 9: [3], 0: [4]}\n",
      "{1: [0], 2: [0], 3: [1], 4: [2], 5: [2], 6: [2], 7: [3], 0: [4]}\n",
      "{1: [0], 2: [1]}\n",
      "{1: [0], 2: [1]}\n",
      "{1: [0], 2: [1]}\n",
      "{2: [0], 3: [0], 4: [1], 5: [2]}\n",
      "{4: [0], 5: [0], 6: [0], 7: [0], 8: [1], 9: [2]}\n",
      "{1: [0], 2: [1]}\n",
      "{2: [0], 3: [0], 4: [1], 5: [1], 0: [2], 1: [2]}\n",
      "{2: [0], 3: [0], 4: [1], 5: [1], 0: [2], 1: [2]}\n",
      "{2: [0], 3: [0], 4: [1], 5: [1], 0: [2], 1: [2]}\n",
      "{2: [0], 3: [0], 4: [1], 5: [1], 0: [2], 1: [2]}\n",
      "{2: [0], 3: [0], 4: [1], 5: [1], 0: [2], 1: [2]}\n",
      "{2: [0], 3: [0], 4: [1], 5: [1], 0: [2], 1: [2]}\n",
      "{2: [0], 3: [0], 4: [1], 5: [1], 0: [2], 1: [2]}\n",
      "{2: [0], 3: [0], 4: [1], 5: [1], 0: [2], 1: [2]}\n",
      "{2: [0], 3: [0], 4: [1], 5: [1], 0: [2], 1: [2]}\n",
      "{2: [0], 3: [0], 4: [1], 5: [1], 0: [2], 1: [2]}\n",
      "{2: [0], 3: [0], 4: [1], 5: [1], 0: [2], 1: [2]}\n",
      "{2: [0], 3: [0], 4: [1], 5: [1], 0: [2], 1: [2]}\n",
      "{2: [0], 3: [0], 4: [1], 5: [1], 0: [2], 1: [2]}\n",
      "{2: [0], 3: [0], 4: [1], 5: [1], 0: [2], 1: [2]}\n",
      "{2: [0], 3: [0], 4: [1], 5: [1], 0: [2], 1: [2]}\n",
      "{2: [0], 3: [0], 4: [1], 5: [1], 0: [2], 1: [2]}\n",
      "{2: [0], 3: [0], 4: [1], 5: [1], 0: [2], 1: [2]}\n",
      "{2: [0], 3: [0], 4: [1], 5: [1], 0: [2], 1: [2]}\n",
      "{2: [0], 3: [0], 4: [1], 5: [1], 0: [2], 1: [2]}\n",
      "{2: [0], 3: [0], 4: [1], 5: [1], 0: [2], 1: [2]}\n",
      "{2: [0], 3: [0], 4: [1], 5: [1], 0: [2], 1: [2]}\n",
      "{2: [0], 3: [0], 4: [1], 5: [1], 0: [2], 1: [2]}\n",
      "{2: [0], 3: [0], 4: [1], 5: [1], 0: [2], 1: [2]}\n",
      "{2: [0], 3: [0], 4: [1], 5: [1], 0: [2], 1: [2]}\n",
      "{2: [0], 3: [0], 4: [1], 5: [1], 0: [2], 1: [2]}\n",
      "{2: [0], 3: [0], 4: [1], 5: [1]}\n",
      "{2: [0], 3: [0], 4: [1], 5: [1]}\n",
      "{2: [0], 3: [0], 4: [1], 5: [1]}\n",
      "{2: [0], 3: [0], 4: [1], 5: [1]}\n",
      "{1: [0], 0: [1]}\n",
      "{1: [0], 0: [1]}\n",
      "{1: [0], 0: [1]}\n",
      "{1: [0], 0: [1]}\n",
      "{1: [0], 0: [1]}\n",
      "{1: [0], 0: [1]}\n",
      "{2: [0], 3: [0], 4: [1], 5: [1], 0: [2], 1: [2]}\n",
      "{2: [0], 3: [0], 4: [1], 5: [1], 0: [2], 1: [2]}\n",
      "{2: [0], 3: [0], 4: [1], 5: [1], 0: [2], 1: [2]}\n",
      "{2: [0], 3: [0], 4: [1], 5: [1], 0: [2], 1: [2]}\n",
      "{2: [0], 3: [0], 4: [1], 5: [1], 0: [2], 1: [2]}\n",
      "{2: [0], 3: [0], 4: [1], 5: [1], 0: [2], 1: [2]}\n",
      "{2: [0], 3: [0], 4: [1], 5: [1], 0: [2], 1: [2]}\n",
      "{2: [0], 3: [0], 4: [1], 5: [1], 0: [2], 1: [2]}\n",
      "{2: [0], 3: [0], 4: [1], 5: [1], 0: [2], 1: [2]}\n",
      "{2: [0], 3: [0], 4: [1], 5: [1], 0: [2], 1: [2]}\n",
      "{2: [0], 3: [0], 4: [1], 5: [1], 0: [2], 1: [2]}\n",
      "{2: [0], 3: [0], 4: [1], 5: [1], 0: [2], 1: [2]}\n",
      "{2: [0], 3: [0], 4: [1], 5: [1], 0: [2], 1: [2]}\n",
      "{2: [0], 3: [0], 4: [1], 5: [1], 0: [2], 1: [2]}\n",
      "{2: [0], 3: [0], 4: [1], 5: [1], 0: [2], 1: [2]}\n",
      "{2: [0], 3: [0], 4: [1], 5: [1], 0: [2], 1: [2]}\n",
      "{2: [0], 3: [0], 4: [1], 5: [1], 0: [2], 1: [2]}\n",
      "{2: [0], 3: [0], 4: [1], 5: [1], 0: [2], 1: [2]}\n",
      "{2: [0], 3: [0], 4: [1], 5: [1]}\n",
      "{2: [0], 3: [0], 4: [1], 5: [1]}\n",
      "{2: [0], 3: [0], 4: [1], 5: [1]}\n",
      "{2: [0], 3: [0], 4: [1], 5: [1]}\n",
      "{2: [0], 3: [0], 4: [1], 5: [1]}\n",
      "{2: [0], 3: [0], 4: [1], 5: [1]}\n",
      "{2: [0], 3: [0], 4: [1], 5: [1], 0: [2], 1: [2]}\n",
      "{2: [0], 3: [0], 4: [1], 5: [1], 0: [2], 1: [2]}\n",
      "{2: [0], 3: [0], 4: [1], 5: [1]}\n",
      "{2: [0], 3: [0], 4: [1], 5: [1]}\n",
      "{2: [0], 3: [0], 4: [1], 5: [1], 0: [2], 1: [2]}\n",
      "{2: [0], 3: [0], 4: [1], 5: [1], 0: [2], 1: [2]}\n",
      "{2: [0], 3: [0], 4: [1], 5: [1], 0: [2], 1: [2]}\n",
      "{2: [0], 3: [0], 4: [1], 5: [1], 0: [2], 1: [2]}\n",
      "{2: [0], 3: [0], 4: [1], 5: [1], 0: [2], 1: [2]}\n",
      "{2: [0], 3: [0], 4: [1], 5: [1], 0: [2], 1: [2]}\n",
      "{2: [0], 3: [0], 4: [1], 5: [1], 0: [2], 1: [2]}\n",
      "{2: [0], 3: [0], 4: [1], 5: [1], 0: [2], 1: [2]}\n",
      "{2: [0], 3: [0], 4: [1], 5: [1], 0: [2], 1: [2]}\n",
      "{2: [0], 3: [0], 4: [1], 5: [1], 0: [2], 1: [2]}\n",
      "{2: [0], 3: [0], 4: [1], 5: [1], 0: [2], 1: [2]}\n",
      "{2: [0], 3: [0], 4: [1], 5: [1], 0: [2], 1: [2]}\n",
      "{2: [0], 3: [0], 4: [1], 5: [1], 0: [2], 1: [2]}\n",
      "{2: [0], 3: [0], 4: [1], 5: [1], 0: [2], 1: [2]}\n",
      "{2: [0], 3: [0], 4: [1], 5: [1], 0: [2], 1: [2]}\n",
      "{2: [0], 3: [0], 4: [1], 5: [1], 0: [2], 1: [2]}\n",
      "{2: [0], 3: [0], 4: [1], 5: [1], 0: [2], 1: [2]}\n",
      "{2: [0], 3: [0], 4: [1], 5: [1], 0: [2], 1: [2]}\n",
      "{2: [0], 3: [0], 4: [1], 5: [1], 0: [2], 1: [2]}\n",
      "{2: [0], 3: [0], 4: [1], 5: [1], 0: [2], 1: [2]}\n"
     ]
    }
   ],
   "source": [
    "for array in parseKML(\"2017_polygons.kml\"):\n",
    "    X, y = pixelPairs(array, \"2017-05-01\", \"2017-09-30\")\n",
    "    if len(X):\n",
    "        sar = np.concatenate((sar, X), axis=0) if not sar is None else X\n",
    "        ndvi = np.append(ndvi, y)"
   ]
  },
  {
   "cell_type": "code",
   "execution_count": 86,
   "metadata": {},
   "outputs": [],
   "source": [
    "np.save(\"pixel_data/2017_avg_sar.npy\", sar)\n",
    "np.save(\"pixel_data/2017_avg_ndvi.npy\", ndvi)"
   ]
  },
  {
   "cell_type": "code",
   "execution_count": 87,
   "metadata": {},
   "outputs": [],
   "source": [
    "sar2017 = np.load(\"pixel_data/2017_avg_sar.npy\")\n",
    "ndvi2017 = np.load(\"pixel_data/2017_avg_ndvi.npy\")\n",
    "sar2018 = np.load(\"pixel_data/2018_avg_sar.npy\")\n",
    "ndvi2018 = np.load(\"pixel_data/2018_avg_ndvi.npy\")\n",
    "sar2019 = np.load(\"pixel_data/2019_avg_sar.npy\")\n",
    "ndvi2019 = np.load(\"pixel_data/2019_avg_ndvi.npy\")"
   ]
  },
  {
   "cell_type": "code",
   "execution_count": 88,
   "metadata": {},
   "outputs": [],
   "source": [
    "sar = np.concatenate((sar2017, sar2018, sar2019), axis=0)\n",
    "ndvi = np.concatenate((ndvi2017, ndvi2018, ndvi2019), axis=0)"
   ]
  },
  {
   "cell_type": "code",
   "execution_count": 93,
   "metadata": {},
   "outputs": [
    {
     "name": "stdout",
     "output_type": "stream",
     "text": [
      "Training new model...\n",
      "Train set size: 2993\n",
      "Test set size: 529\n",
      "Saving to model_mixed_avg...\n",
      "Done!\n",
      "Scoring...\n",
      "Regression score: R^2=0.8471944653071033\n"
     ]
    },
    {
     "data": {
      "text/plain": [
       "RandomForestRegressor(bootstrap=True, ccp_alpha=0.0, criterion='mse',\n",
       "                      max_depth=None, max_features='auto', max_leaf_nodes=None,\n",
       "                      max_samples=None, min_impurity_decrease=0.0,\n",
       "                      min_impurity_split=None, min_samples_leaf=1,\n",
       "                      min_samples_split=2, min_weight_fraction_leaf=0.0,\n",
       "                      n_estimators=100, n_jobs=None, oob_score=False,\n",
       "                      random_state=None, verbose=0, warm_start=False)"
      ]
     },
     "execution_count": 93,
     "metadata": {},
     "output_type": "execute_result"
    }
   ],
   "source": [
    "model.train_and_test(sar, ndvi, test_split=0.15, file_name=\"model_mixed_avg\")"
   ]
  },
  {
   "cell_type": "code",
   "execution_count": 94,
   "metadata": {},
   "outputs": [],
   "source": [
    "from joblib import dump, load\n",
    "from visualize import visualize\n",
    "regr = load(\"model_mixed_avg\")"
   ]
  },
  {
   "cell_type": "code",
   "execution_count": 95,
   "metadata": {},
   "outputs": [
    {
     "name": "stdout",
     "output_type": "stream",
     "text": [
      "Number of images:  100\n",
      "Number of images:  100\n",
      "Number of images:  100\n",
      "Number of images:  100\n",
      "Number of images:  100\n",
      "Number of images:  100\n",
      "Number of images:  87\n"
     ]
    },
    {
     "ename": "EEException",
     "evalue": "Array: No numbers in 'values', must provide a type.",
     "output_type": "error",
     "traceback": [
      "\u001b[0;31m---------------------------------------------------------------------------\u001b[0m",
      "\u001b[0;31mHttpError\u001b[0m                                 Traceback (most recent call last)",
      "\u001b[0;32m~/git/crop-canopy-estimation/venv/lib/python3.6/site-packages/ee/data.py\u001b[0m in \u001b[0;36m_execute_cloud_call\u001b[0;34m(call, num_retries)\u001b[0m\n\u001b[1;32m    337\u001b[0m   \u001b[0;32mtry\u001b[0m\u001b[0;34m:\u001b[0m\u001b[0;34m\u001b[0m\u001b[0;34m\u001b[0m\u001b[0m\n\u001b[0;32m--> 338\u001b[0;31m     \u001b[0;32mreturn\u001b[0m \u001b[0mcall\u001b[0m\u001b[0;34m.\u001b[0m\u001b[0mexecute\u001b[0m\u001b[0;34m(\u001b[0m\u001b[0mnum_retries\u001b[0m\u001b[0;34m=\u001b[0m\u001b[0mnum_retries\u001b[0m\u001b[0;34m)\u001b[0m\u001b[0;34m\u001b[0m\u001b[0;34m\u001b[0m\u001b[0m\n\u001b[0m\u001b[1;32m    339\u001b[0m   \u001b[0;32mexcept\u001b[0m \u001b[0mapiclient\u001b[0m\u001b[0;34m.\u001b[0m\u001b[0merrors\u001b[0m\u001b[0;34m.\u001b[0m\u001b[0mHttpError\u001b[0m \u001b[0;32mas\u001b[0m \u001b[0me\u001b[0m\u001b[0;34m:\u001b[0m\u001b[0;34m\u001b[0m\u001b[0;34m\u001b[0m\u001b[0m\n",
      "\u001b[0;32m~/git/crop-canopy-estimation/venv/lib/python3.6/site-packages/googleapiclient/_helpers.py\u001b[0m in \u001b[0;36mpositional_wrapper\u001b[0;34m(*args, **kwargs)\u001b[0m\n\u001b[1;32m    129\u001b[0m                     \u001b[0mlogger\u001b[0m\u001b[0;34m.\u001b[0m\u001b[0mwarning\u001b[0m\u001b[0;34m(\u001b[0m\u001b[0mmessage\u001b[0m\u001b[0;34m)\u001b[0m\u001b[0;34m\u001b[0m\u001b[0;34m\u001b[0m\u001b[0m\n\u001b[0;32m--> 130\u001b[0;31m             \u001b[0;32mreturn\u001b[0m \u001b[0mwrapped\u001b[0m\u001b[0;34m(\u001b[0m\u001b[0;34m*\u001b[0m\u001b[0margs\u001b[0m\u001b[0;34m,\u001b[0m \u001b[0;34m**\u001b[0m\u001b[0mkwargs\u001b[0m\u001b[0;34m)\u001b[0m\u001b[0;34m\u001b[0m\u001b[0;34m\u001b[0m\u001b[0m\n\u001b[0m\u001b[1;32m    131\u001b[0m         \u001b[0;32mreturn\u001b[0m \u001b[0mpositional_wrapper\u001b[0m\u001b[0;34m\u001b[0m\u001b[0;34m\u001b[0m\u001b[0m\n",
      "\u001b[0;32m~/git/crop-canopy-estimation/venv/lib/python3.6/site-packages/googleapiclient/http.py\u001b[0m in \u001b[0;36mexecute\u001b[0;34m(self, http, num_retries)\u001b[0m\n\u001b[1;32m    855\u001b[0m     \u001b[0;32mif\u001b[0m \u001b[0mresp\u001b[0m\u001b[0;34m.\u001b[0m\u001b[0mstatus\u001b[0m \u001b[0;34m>=\u001b[0m \u001b[0;36m300\u001b[0m\u001b[0;34m:\u001b[0m\u001b[0;34m\u001b[0m\u001b[0;34m\u001b[0m\u001b[0m\n\u001b[0;32m--> 856\u001b[0;31m       \u001b[0;32mraise\u001b[0m \u001b[0mHttpError\u001b[0m\u001b[0;34m(\u001b[0m\u001b[0mresp\u001b[0m\u001b[0;34m,\u001b[0m \u001b[0mcontent\u001b[0m\u001b[0;34m,\u001b[0m \u001b[0muri\u001b[0m\u001b[0;34m=\u001b[0m\u001b[0mself\u001b[0m\u001b[0;34m.\u001b[0m\u001b[0muri\u001b[0m\u001b[0;34m)\u001b[0m\u001b[0;34m\u001b[0m\u001b[0;34m\u001b[0m\u001b[0m\n\u001b[0m\u001b[1;32m    857\u001b[0m     \u001b[0;32mreturn\u001b[0m \u001b[0mself\u001b[0m\u001b[0;34m.\u001b[0m\u001b[0mpostproc\u001b[0m\u001b[0;34m(\u001b[0m\u001b[0mresp\u001b[0m\u001b[0;34m,\u001b[0m \u001b[0mcontent\u001b[0m\u001b[0;34m)\u001b[0m\u001b[0;34m\u001b[0m\u001b[0;34m\u001b[0m\u001b[0m\n",
      "\u001b[0;31mHttpError\u001b[0m: <HttpError 400 when requesting https://earthengine.googleapis.com/v1alpha/projects/earthengine-legacy/value:compute?prettyPrint=false&alt=json returned \"Array: No numbers in 'values', must provide a type.\">",
      "\nDuring handling of the above exception, another exception occurred:\n",
      "\u001b[0;31mEEException\u001b[0m                               Traceback (most recent call last)",
      "\u001b[0;32m<ipython-input-95-71a8531abd91>\u001b[0m in \u001b[0;36m<module>\u001b[0;34m\u001b[0m\n\u001b[1;32m      1\u001b[0m \u001b[0;32mfor\u001b[0m \u001b[0mfield_no\u001b[0m \u001b[0;32min\u001b[0m \u001b[0mrange\u001b[0m\u001b[0;34m(\u001b[0m\u001b[0;36m10\u001b[0m\u001b[0;34m)\u001b[0m\u001b[0;34m:\u001b[0m\u001b[0;34m\u001b[0m\u001b[0;34m\u001b[0m\u001b[0m\n\u001b[0;32m----> 2\u001b[0;31m         \u001b[0mvisualize\u001b[0m\u001b[0;34m(\u001b[0m\u001b[0mfield_no\u001b[0m\u001b[0;34m,\u001b[0m \u001b[0mregr\u001b[0m\u001b[0;34m)\u001b[0m\u001b[0;34m\u001b[0m\u001b[0;34m\u001b[0m\u001b[0m\n\u001b[0m",
      "\u001b[0;32m~/git/crop-canopy-estimation/visualize.py\u001b[0m in \u001b[0;36mvisualize\u001b[0;34m(field_no, regr_model)\u001b[0m\n\u001b[1;32m     80\u001b[0m \u001b[0;34m\u001b[0m\u001b[0m\n\u001b[1;32m     81\u001b[0m \u001b[0;32mdef\u001b[0m \u001b[0mvisualize\u001b[0m\u001b[0;34m(\u001b[0m\u001b[0mfield_no\u001b[0m\u001b[0;34m,\u001b[0m \u001b[0mregr_model\u001b[0m\u001b[0;34m)\u001b[0m\u001b[0;34m:\u001b[0m\u001b[0;34m\u001b[0m\u001b[0;34m\u001b[0m\u001b[0m\n\u001b[0;32m---> 82\u001b[0;31m     \u001b[0mdate\u001b[0m\u001b[0;34m,\u001b[0m \u001b[0mpx_pairs\u001b[0m \u001b[0;34m=\u001b[0m \u001b[0mread_pixel_data\u001b[0m\u001b[0;34m(\u001b[0m\u001b[0mfield_no\u001b[0m\u001b[0;34m)\u001b[0m\u001b[0;34m\u001b[0m\u001b[0;34m\u001b[0m\u001b[0m\n\u001b[0m\u001b[1;32m     83\u001b[0m     \u001b[0;31m#ndvi_mes = np.array([mean(day[:,0]) for day in px_pairs])\u001b[0m\u001b[0;34m\u001b[0m\u001b[0;34m\u001b[0m\u001b[0;34m\u001b[0m\u001b[0m\n\u001b[1;32m     84\u001b[0m \u001b[0;34m\u001b[0m\u001b[0m\n",
      "\u001b[0;32m~/git/crop-canopy-estimation/visualize.py\u001b[0m in \u001b[0;36mread_pixel_data\u001b[0;34m(field_no)\u001b[0m\n\u001b[1;32m     65\u001b[0m     \u001b[0marrays\u001b[0m \u001b[0;34m=\u001b[0m \u001b[0mreader\u001b[0m\u001b[0;34m.\u001b[0m\u001b[0mparseKML\u001b[0m\u001b[0;34m(\u001b[0m\u001b[0;34m\"2017_polygons.kml\"\u001b[0m\u001b[0;34m)\u001b[0m\u001b[0;34m\u001b[0m\u001b[0;34m\u001b[0m\u001b[0m\n\u001b[1;32m     66\u001b[0m     \u001b[0marray\u001b[0m \u001b[0;34m=\u001b[0m \u001b[0marrays\u001b[0m\u001b[0;34m[\u001b[0m\u001b[0mfield_no\u001b[0m\u001b[0;34m]\u001b[0m\u001b[0;34m\u001b[0m\u001b[0;34m\u001b[0m\u001b[0m\n\u001b[0;32m---> 67\u001b[0;31m     \u001b[0mdata\u001b[0m\u001b[0;34m,\u001b[0m \u001b[0mdates\u001b[0m  \u001b[0;34m=\u001b[0m \u001b[0mgetSAR\u001b[0m\u001b[0;34m.\u001b[0m\u001b[0marrayToSAR\u001b[0m\u001b[0;34m(\u001b[0m\u001b[0marray\u001b[0m\u001b[0;34m,\u001b[0m \u001b[0mstartDate\u001b[0m\u001b[0;34m,\u001b[0m \u001b[0mendDate\u001b[0m\u001b[0;34m,\u001b[0m \u001b[0mreturnDates\u001b[0m\u001b[0;34m=\u001b[0m\u001b[0;32mTrue\u001b[0m\u001b[0;34m)\u001b[0m\u001b[0;34m\u001b[0m\u001b[0;34m\u001b[0m\u001b[0m\n\u001b[0m\u001b[1;32m     68\u001b[0m \u001b[0;34m\u001b[0m\u001b[0m\n\u001b[1;32m     69\u001b[0m     \u001b[0mres_date\u001b[0m\u001b[0;34m,\u001b[0m \u001b[0mres_px\u001b[0m \u001b[0;34m=\u001b[0m \u001b[0;34m(\u001b[0m\u001b[0;34m[\u001b[0m\u001b[0;34m]\u001b[0m\u001b[0;34m,\u001b[0m \u001b[0;34m[\u001b[0m\u001b[0;34m]\u001b[0m\u001b[0;34m)\u001b[0m\u001b[0;34m\u001b[0m\u001b[0;34m\u001b[0m\u001b[0m\n",
      "\u001b[0;32m~/git/crop-canopy-estimation/getSAR.py\u001b[0m in \u001b[0;36marrayToSAR\u001b[0;34m(array, startDate, EndDate, returnDates)\u001b[0m\n\u001b[1;32m     33\u001b[0m     \u001b[0ml\u001b[0m \u001b[0;34m=\u001b[0m \u001b[0mmyCollection\u001b[0m\u001b[0;34m.\u001b[0m\u001b[0mtoList\u001b[0m\u001b[0;34m(\u001b[0m\u001b[0msize\u001b[0m\u001b[0;34m)\u001b[0m\u001b[0;34m\u001b[0m\u001b[0;34m\u001b[0m\u001b[0m\n\u001b[1;32m     34\u001b[0m     \u001b[0marr\u001b[0m \u001b[0;34m=\u001b[0m \u001b[0;34m[\u001b[0m\u001b[0;34m]\u001b[0m\u001b[0;34m\u001b[0m\u001b[0;34m\u001b[0m\u001b[0m\n\u001b[0;32m---> 35\u001b[0;31m     \u001b[0mLatLonImgsSAR\u001b[0m \u001b[0;34m=\u001b[0m \u001b[0mee\u001b[0m\u001b[0;34m.\u001b[0m\u001b[0mList\u001b[0m\u001b[0;34m(\u001b[0m\u001b[0;34m[\u001b[0m\u001b[0mLatLonImgVHVV\u001b[0m\u001b[0;34m(\u001b[0m\u001b[0mee\u001b[0m\u001b[0;34m.\u001b[0m\u001b[0mImage\u001b[0m\u001b[0;34m(\u001b[0m\u001b[0ml\u001b[0m\u001b[0;34m.\u001b[0m\u001b[0mget\u001b[0m\u001b[0;34m(\u001b[0m\u001b[0mi\u001b[0m\u001b[0;34m)\u001b[0m\u001b[0;34m)\u001b[0m\u001b[0;34m,\u001b[0m \u001b[0marea\u001b[0m\u001b[0;34m)\u001b[0m \u001b[0;32mfor\u001b[0m \u001b[0mi\u001b[0m \u001b[0;32min\u001b[0m \u001b[0mrange\u001b[0m\u001b[0;34m(\u001b[0m\u001b[0msize\u001b[0m\u001b[0;34m)\u001b[0m\u001b[0;34m]\u001b[0m\u001b[0;34m)\u001b[0m\u001b[0;34m.\u001b[0m\u001b[0mgetInfo\u001b[0m\u001b[0;34m(\u001b[0m\u001b[0;34m)\u001b[0m\u001b[0;34m\u001b[0m\u001b[0;34m\u001b[0m\u001b[0m\n\u001b[0m\u001b[1;32m     36\u001b[0m     \u001b[0;32mfor\u001b[0m \u001b[0mi\u001b[0m \u001b[0;32min\u001b[0m \u001b[0mrange\u001b[0m\u001b[0;34m(\u001b[0m\u001b[0msize\u001b[0m\u001b[0;34m)\u001b[0m\u001b[0;34m:\u001b[0m\u001b[0;34m\u001b[0m\u001b[0;34m\u001b[0m\u001b[0m\n\u001b[1;32m     37\u001b[0m         \u001b[0mlats\u001b[0m \u001b[0;34m=\u001b[0m \u001b[0mLatLonImgsSAR\u001b[0m\u001b[0;34m[\u001b[0m\u001b[0mi\u001b[0m\u001b[0;34m]\u001b[0m\u001b[0;34m[\u001b[0m\u001b[0;36m0\u001b[0m\u001b[0;34m]\u001b[0m\u001b[0;34m\u001b[0m\u001b[0;34m\u001b[0m\u001b[0m\n",
      "\u001b[0;32m~/git/crop-canopy-estimation/venv/lib/python3.6/site-packages/ee/computedobject.py\u001b[0m in \u001b[0;36mgetInfo\u001b[0;34m(self)\u001b[0m\n\u001b[1;32m     93\u001b[0m       \u001b[0mThe\u001b[0m \u001b[0mobject\u001b[0m \u001b[0mcan\u001b[0m \u001b[0mevaluate\u001b[0m \u001b[0mto\u001b[0m \u001b[0manything\u001b[0m\u001b[0;34m.\u001b[0m\u001b[0;34m\u001b[0m\u001b[0;34m\u001b[0m\u001b[0m\n\u001b[1;32m     94\u001b[0m     \"\"\"\n\u001b[0;32m---> 95\u001b[0;31m     \u001b[0;32mreturn\u001b[0m \u001b[0mdata\u001b[0m\u001b[0;34m.\u001b[0m\u001b[0mcomputeValue\u001b[0m\u001b[0;34m(\u001b[0m\u001b[0mself\u001b[0m\u001b[0;34m)\u001b[0m\u001b[0;34m\u001b[0m\u001b[0;34m\u001b[0m\u001b[0m\n\u001b[0m\u001b[1;32m     96\u001b[0m \u001b[0;34m\u001b[0m\u001b[0m\n\u001b[1;32m     97\u001b[0m   \u001b[0;32mdef\u001b[0m \u001b[0mencode\u001b[0m\u001b[0;34m(\u001b[0m\u001b[0mself\u001b[0m\u001b[0;34m,\u001b[0m \u001b[0mencoder\u001b[0m\u001b[0;34m)\u001b[0m\u001b[0;34m:\u001b[0m\u001b[0;34m\u001b[0m\u001b[0;34m\u001b[0m\u001b[0m\n",
      "\u001b[0;32m~/git/crop-canopy-estimation/venv/lib/python3.6/site-packages/ee/data.py\u001b[0m in \u001b[0;36mcomputeValue\u001b[0;34m(obj)\u001b[0m\n\u001b[1;32m    715\u001b[0m         \u001b[0mbody\u001b[0m\u001b[0;34m=\u001b[0m\u001b[0;34m{\u001b[0m\u001b[0;34m'expression'\u001b[0m\u001b[0;34m:\u001b[0m \u001b[0mserializer\u001b[0m\u001b[0;34m.\u001b[0m\u001b[0mencode\u001b[0m\u001b[0;34m(\u001b[0m\u001b[0mobj\u001b[0m\u001b[0;34m,\u001b[0m \u001b[0mfor_cloud_api\u001b[0m\u001b[0;34m=\u001b[0m\u001b[0;32mTrue\u001b[0m\u001b[0;34m)\u001b[0m\u001b[0;34m}\u001b[0m\u001b[0;34m,\u001b[0m\u001b[0;34m\u001b[0m\u001b[0;34m\u001b[0m\u001b[0m\n\u001b[1;32m    716\u001b[0m         \u001b[0mproject\u001b[0m\u001b[0;34m=\u001b[0m\u001b[0m_get_projects_path\u001b[0m\u001b[0;34m(\u001b[0m\u001b[0;34m)\u001b[0m\u001b[0;34m,\u001b[0m\u001b[0;34m\u001b[0m\u001b[0;34m\u001b[0m\u001b[0m\n\u001b[0;32m--> 717\u001b[0;31m         prettyPrint=False))['result']\n\u001b[0m\u001b[1;32m    718\u001b[0m   \u001b[0;32mreturn\u001b[0m \u001b[0msend_\u001b[0m\u001b[0;34m(\u001b[0m\u001b[0;34m'/value'\u001b[0m\u001b[0;34m,\u001b[0m \u001b[0;34m(\u001b[0m\u001b[0;34m{\u001b[0m\u001b[0;34m'json'\u001b[0m\u001b[0;34m:\u001b[0m \u001b[0mobj\u001b[0m\u001b[0;34m.\u001b[0m\u001b[0mserialize\u001b[0m\u001b[0;34m(\u001b[0m\u001b[0;34m)\u001b[0m\u001b[0;34m,\u001b[0m \u001b[0;34m'json_format'\u001b[0m\u001b[0;34m:\u001b[0m \u001b[0;34m'v2'\u001b[0m\u001b[0;34m}\u001b[0m\u001b[0;34m)\u001b[0m\u001b[0;34m)\u001b[0m\u001b[0;34m\u001b[0m\u001b[0;34m\u001b[0m\u001b[0m\n\u001b[1;32m    719\u001b[0m \u001b[0;34m\u001b[0m\u001b[0m\n",
      "\u001b[0;32m~/git/crop-canopy-estimation/venv/lib/python3.6/site-packages/ee/data.py\u001b[0m in \u001b[0;36m_execute_cloud_call\u001b[0;34m(call, num_retries)\u001b[0m\n\u001b[1;32m    338\u001b[0m     \u001b[0;32mreturn\u001b[0m \u001b[0mcall\u001b[0m\u001b[0;34m.\u001b[0m\u001b[0mexecute\u001b[0m\u001b[0;34m(\u001b[0m\u001b[0mnum_retries\u001b[0m\u001b[0;34m=\u001b[0m\u001b[0mnum_retries\u001b[0m\u001b[0;34m)\u001b[0m\u001b[0;34m\u001b[0m\u001b[0;34m\u001b[0m\u001b[0m\n\u001b[1;32m    339\u001b[0m   \u001b[0;32mexcept\u001b[0m \u001b[0mapiclient\u001b[0m\u001b[0;34m.\u001b[0m\u001b[0merrors\u001b[0m\u001b[0;34m.\u001b[0m\u001b[0mHttpError\u001b[0m \u001b[0;32mas\u001b[0m \u001b[0me\u001b[0m\u001b[0;34m:\u001b[0m\u001b[0;34m\u001b[0m\u001b[0;34m\u001b[0m\u001b[0m\n\u001b[0;32m--> 340\u001b[0;31m     \u001b[0;32mraise\u001b[0m \u001b[0m_translate_cloud_exception\u001b[0m\u001b[0;34m(\u001b[0m\u001b[0me\u001b[0m\u001b[0;34m)\u001b[0m\u001b[0;34m\u001b[0m\u001b[0;34m\u001b[0m\u001b[0m\n\u001b[0m\u001b[1;32m    341\u001b[0m \u001b[0;34m\u001b[0m\u001b[0m\n\u001b[1;32m    342\u001b[0m \u001b[0;34m\u001b[0m\u001b[0m\n",
      "\u001b[0;31mEEException\u001b[0m: Array: No numbers in 'values', must provide a type."
     ]
    },
    {
     "data": {
      "text/plain": [
       "<Figure size 432x288 with 0 Axes>"
      ]
     },
     "metadata": {},
     "output_type": "display_data"
    }
   ],
   "source": [
    "for field_no in range(10):\n",
    "        visualize(field_no, regr)"
   ]
  },
  {
   "cell_type": "code",
   "execution_count": null,
   "metadata": {},
   "outputs": [],
   "source": []
  }
 ],
 "metadata": {
  "kernelspec": {
   "display_name": "Python 3",
   "language": "python",
   "name": "python3"
  },
  "language_info": {
   "codemirror_mode": {
    "name": "ipython",
    "version": 3
   },
   "file_extension": ".py",
   "mimetype": "text/x-python",
   "name": "python",
   "nbconvert_exporter": "python",
   "pygments_lexer": "ipython3",
   "version": "3.6.9"
  }
 },
 "nbformat": 4,
 "nbformat_minor": 4
}
