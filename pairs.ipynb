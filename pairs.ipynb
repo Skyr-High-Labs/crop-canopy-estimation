{
 "cells": [
  {
   "cell_type": "code",
   "execution_count": 1,
   "metadata": {},
   "outputs": [],
   "source": [
    "from bs4 import BeautifulSoup\n",
    "import getNDVI\n",
    "import getSAR\n",
    "import common\n",
    "import numpy as np\n",
    "import ee\n",
    "import getPair\n",
    "from datetime import datetime\n",
    "import disp_multiple_images\n",
    "\n",
    "%matplotlib inline"
   ]
  },
  {
   "cell_type": "code",
   "execution_count": 2,
   "metadata": {},
   "outputs": [],
   "source": [
    "# Trigger the authentication flow.\n",
    "#ee.Authenticate()"
   ]
  },
  {
   "cell_type": "code",
   "execution_count": 3,
   "metadata": {},
   "outputs": [],
   "source": [
    "# Initialize the library.\n",
    "ee.Initialize()"
   ]
  },
  {
   "cell_type": "code",
   "execution_count": 4,
   "metadata": {},
   "outputs": [],
   "source": [
    "def parseKML(inputfile):\n",
    "  with open(inputfile, \"r\") as f:\n",
    "    soup = BeautifulSoup(f, features=\"html.parser\")\n",
    "    return [np.array([i.split(\",\")[0:2] for i in node.string.split()]).astype(np.float).tolist()\\\n",
    "            for node in soup.findAll(\"coordinates\")]"
   ]
  },
  {
   "cell_type": "code",
   "execution_count": 6,
   "metadata": {},
   "outputs": [
    {
     "name": "stdout",
     "output_type": "stream",
     "text": [
      "{0: [0], 1: [0], 2: [0], 3: [0], 4: [1], 5: [1]}\n",
      "[[ 6.16822429e-02 -1.91848335e+01 -8.02712822e+00]\n",
      " [ 2.78884470e-02 -1.94849224e+01 -6.78397465e+00]\n",
      " [ 9.11854114e-03 -1.81715927e+01 -4.95610952e+00]\n",
      " ...\n",
      " [ 8.52546915e-02 -2.19176769e+01 -8.65106869e+00]\n",
      " [ 3.11158802e-02 -2.04505444e+01 -1.07489624e+01]\n",
      " [ 4.42967899e-02 -1.97389812e+01 -1.22920523e+01]]\n"
     ]
    }
   ],
   "source": [
    "if __name__ == \"__main__\":\n",
    "  for array in parseKML(\"2017_polygons.kml\"):\n",
    "    startDate, EndDate = \"2017-01-01\",\"2017-02-01\"    \n",
    "    data, _ = getPair.arrayToPairs(array, startDate, EndDate, False, 0.5)\n",
    "    \n",
    "    px_pairs = None\n",
    "    for i in range(0, len(data), 3):\n",
    "        # NDVI, SAR\n",
    "        tmp = np.dstack((data[i][0], data[i+1][0], data[i+2][0]))\n",
    "        tmp = tmp.reshape(-1, tmp.shape[-1])\n",
    "        tmp = tmp[np.all(tmp != 0, axis=1)]\n",
    "        px_pairs = np.concatenate((px_pairs, tmp), axis = 0) if not px_pairs is None else tmp\n",
    "    \n",
    "    print(px_pairs)\n",
    "    # px_pairs is now pixel-pairs for a given field over a given time span\n",
    "    \n",
    "    break"
   ]
  },
  {
   "cell_type": "code",
   "execution_count": null,
   "metadata": {},
   "outputs": [],
   "source": []
  }
 ],
 "metadata": {
  "kernelspec": {
   "display_name": "Python 3",
   "language": "python",
   "name": "python3"
  },
  "language_info": {
   "codemirror_mode": {
    "name": "ipython",
    "version": 3
   },
   "file_extension": ".py",
   "mimetype": "text/x-python",
   "name": "python",
   "nbconvert_exporter": "python",
   "pygments_lexer": "ipython3",
   "version": "3.6.9"
  }
 },
 "nbformat": 4,
 "nbformat_minor": 4
}
